{
 "cells": [
  {
   "cell_type": "code",
   "execution_count": 1,
   "metadata": {
    "collapsed": false
   },
   "outputs": [
    {
     "name": "stderr",
     "output_type": "stream",
     "text": [
      "/usr/lib64/python3.4/site-packages/matplotlib/backends/backend_gtk3agg.py:18: UserWarning: The Gtk3Agg backend is known to not work on Python 3.x with pycairo. Try installing cairocffi.\n",
      "  \"The Gtk3Agg backend is known to not work on Python 3.x with pycairo. \"\n"
     ]
    }
   ],
   "source": [
    "import pandas as pd\n",
    "import numpy as np\n",
    "import matplotlib.pyplot as plt\n",
    "%matplotlib inline\n",
    "import matplotlib\n",
    "plt.style.use('ggplot')"
   ]
  },
  {
   "cell_type": "code",
   "execution_count": 2,
   "metadata": {
    "collapsed": false
   },
   "outputs": [],
   "source": [
    "checks = pd.read_csv('VizDraft1.csv')"
   ]
  },
  {
   "cell_type": "markdown",
   "metadata": {},
   "source": [
    "# Check types"
   ]
  },
  {
   "cell_type": "code",
   "execution_count": 28,
   "metadata": {
    "collapsed": false
   },
   "outputs": [],
   "source": [
    "checks = checks[checks['Amount'] != 'No data']"
   ]
  },
  {
   "cell_type": "code",
   "execution_count": 92,
   "metadata": {
    "collapsed": false
   },
   "outputs": [],
   "source": [
    "checks['Amount'] = checks['Amount'].map(lambda x: float(x))\n",
    "checks['Check'] = checks['Check'].map(lambda x: int(x))"
   ]
  },
  {
   "cell_type": "markdown",
   "metadata": {},
   "source": [
    "# Strip whitespace and make case insensitive"
   ]
  },
  {
   "cell_type": "code",
   "execution_count": 93,
   "metadata": {
    "collapsed": false
   },
   "outputs": [],
   "source": [
    "checks['Purchase'] = checks.Purchase.map(lambda x: x if type(x)!=str else x.lower())\n",
    "checks['Category'] = checks.Category.map(lambda x: x if type(x)!=str else x.lower())"
   ]
  },
  {
   "cell_type": "code",
   "execution_count": 94,
   "metadata": {
    "collapsed": false
   },
   "outputs": [],
   "source": [
    "checks['Purchase'] = checks['Purchase'].str.strip()\n",
    "checks['Category'] = checks['Category'].str.strip()"
   ]
  },
  {
   "cell_type": "code",
   "execution_count": 95,
   "metadata": {
    "collapsed": false
   },
   "outputs": [],
   "source": [
    "checks = checks.fillna('No data')"
   ]
  },
  {
   "cell_type": "markdown",
   "metadata": {},
   "source": [
    "# Remove columns we don't want to visualize"
   ]
  },
  {
   "cell_type": "code",
   "execution_count": 96,
   "metadata": {
    "collapsed": false
   },
   "outputs": [
    {
     "ename": "ValueError",
     "evalue": "labels ['Notes'] not contained in axis",
     "output_type": "error",
     "traceback": [
      "\u001b[1;31m---------------------------------------------------------------------------\u001b[0m",
      "\u001b[1;31mValueError\u001b[0m                                Traceback (most recent call last)",
      "\u001b[1;32m<ipython-input-96-09f4adaa15e1>\u001b[0m in \u001b[0;36m<module>\u001b[1;34m()\u001b[0m\n\u001b[1;32m----> 1\u001b[1;33m \u001b[0mchecks\u001b[0m\u001b[1;33m.\u001b[0m\u001b[0mdrop\u001b[0m\u001b[1;33m(\u001b[0m\u001b[1;33m[\u001b[0m\u001b[1;34m'Notes'\u001b[0m\u001b[1;33m]\u001b[0m\u001b[1;33m,\u001b[0m \u001b[0maxis\u001b[0m\u001b[1;33m=\u001b[0m\u001b[1;36m1\u001b[0m\u001b[1;33m,\u001b[0m \u001b[0minplace\u001b[0m\u001b[1;33m=\u001b[0m\u001b[1;32mTrue\u001b[0m\u001b[1;33m)\u001b[0m\u001b[1;33m\u001b[0m\u001b[0m\n\u001b[0m",
      "\u001b[1;32m/usr/lib64/python3.4/site-packages/pandas/core/generic.py\u001b[0m in \u001b[0;36mdrop\u001b[1;34m(self, labels, axis, level, inplace, errors)\u001b[0m\n\u001b[0;32m   1871\u001b[0m                 \u001b[0mnew_axis\u001b[0m \u001b[1;33m=\u001b[0m \u001b[0maxis\u001b[0m\u001b[1;33m.\u001b[0m\u001b[0mdrop\u001b[0m\u001b[1;33m(\u001b[0m\u001b[0mlabels\u001b[0m\u001b[1;33m,\u001b[0m \u001b[0mlevel\u001b[0m\u001b[1;33m=\u001b[0m\u001b[0mlevel\u001b[0m\u001b[1;33m,\u001b[0m \u001b[0merrors\u001b[0m\u001b[1;33m=\u001b[0m\u001b[0merrors\u001b[0m\u001b[1;33m)\u001b[0m\u001b[1;33m\u001b[0m\u001b[0m\n\u001b[0;32m   1872\u001b[0m             \u001b[1;32melse\u001b[0m\u001b[1;33m:\u001b[0m\u001b[1;33m\u001b[0m\u001b[0m\n\u001b[1;32m-> 1873\u001b[1;33m                 \u001b[0mnew_axis\u001b[0m \u001b[1;33m=\u001b[0m \u001b[0maxis\u001b[0m\u001b[1;33m.\u001b[0m\u001b[0mdrop\u001b[0m\u001b[1;33m(\u001b[0m\u001b[0mlabels\u001b[0m\u001b[1;33m,\u001b[0m \u001b[0merrors\u001b[0m\u001b[1;33m=\u001b[0m\u001b[0merrors\u001b[0m\u001b[1;33m)\u001b[0m\u001b[1;33m\u001b[0m\u001b[0m\n\u001b[0m\u001b[0;32m   1874\u001b[0m             \u001b[0mdropped\u001b[0m \u001b[1;33m=\u001b[0m \u001b[0mself\u001b[0m\u001b[1;33m.\u001b[0m\u001b[0mreindex\u001b[0m\u001b[1;33m(\u001b[0m\u001b[1;33m**\u001b[0m\u001b[1;33m{\u001b[0m\u001b[0maxis_name\u001b[0m\u001b[1;33m:\u001b[0m \u001b[0mnew_axis\u001b[0m\u001b[1;33m}\u001b[0m\u001b[1;33m)\u001b[0m\u001b[1;33m\u001b[0m\u001b[0m\n\u001b[0;32m   1875\u001b[0m             \u001b[1;32mtry\u001b[0m\u001b[1;33m:\u001b[0m\u001b[1;33m\u001b[0m\u001b[0m\n",
      "\u001b[1;32m/usr/lib64/python3.4/site-packages/pandas/indexes/base.py\u001b[0m in \u001b[0;36mdrop\u001b[1;34m(self, labels, errors)\u001b[0m\n\u001b[0;32m   2964\u001b[0m             \u001b[1;32mif\u001b[0m \u001b[0merrors\u001b[0m \u001b[1;33m!=\u001b[0m \u001b[1;34m'ignore'\u001b[0m\u001b[1;33m:\u001b[0m\u001b[1;33m\u001b[0m\u001b[0m\n\u001b[0;32m   2965\u001b[0m                 raise ValueError('labels %s not contained in axis' %\n\u001b[1;32m-> 2966\u001b[1;33m                                  labels[mask])\n\u001b[0m\u001b[0;32m   2967\u001b[0m             \u001b[0mindexer\u001b[0m \u001b[1;33m=\u001b[0m \u001b[0mindexer\u001b[0m\u001b[1;33m[\u001b[0m\u001b[1;33m~\u001b[0m\u001b[0mmask\u001b[0m\u001b[1;33m]\u001b[0m\u001b[1;33m\u001b[0m\u001b[0m\n\u001b[0;32m   2968\u001b[0m         \u001b[1;32mreturn\u001b[0m \u001b[0mself\u001b[0m\u001b[1;33m.\u001b[0m\u001b[0mdelete\u001b[0m\u001b[1;33m(\u001b[0m\u001b[0mindexer\u001b[0m\u001b[1;33m)\u001b[0m\u001b[1;33m\u001b[0m\u001b[0m\n",
      "\u001b[1;31mValueError\u001b[0m: labels ['Notes'] not contained in axis"
     ]
    }
   ],
   "source": [
    "checks.drop(['Notes'], axis=1, inplace=True)"
   ]
  },
  {
   "cell_type": "code",
   "execution_count": 97,
   "metadata": {
    "collapsed": false
   },
   "outputs": [
    {
     "ename": "ValueError",
     "evalue": "labels ['Redaction'] not contained in axis",
     "output_type": "error",
     "traceback": [
      "\u001b[1;31m---------------------------------------------------------------------------\u001b[0m",
      "\u001b[1;31mValueError\u001b[0m                                Traceback (most recent call last)",
      "\u001b[1;32m<ipython-input-97-68906b259deb>\u001b[0m in \u001b[0;36m<module>\u001b[1;34m()\u001b[0m\n\u001b[1;32m----> 1\u001b[1;33m \u001b[0mchecks\u001b[0m\u001b[1;33m.\u001b[0m\u001b[0mdrop\u001b[0m\u001b[1;33m(\u001b[0m\u001b[1;33m[\u001b[0m\u001b[1;34m'Redaction'\u001b[0m\u001b[1;33m]\u001b[0m\u001b[1;33m,\u001b[0m \u001b[0maxis\u001b[0m\u001b[1;33m=\u001b[0m\u001b[1;36m1\u001b[0m\u001b[1;33m,\u001b[0m \u001b[0minplace\u001b[0m\u001b[1;33m=\u001b[0m\u001b[1;32mTrue\u001b[0m\u001b[1;33m)\u001b[0m\u001b[1;33m\u001b[0m\u001b[0m\n\u001b[0m",
      "\u001b[1;32m/usr/lib64/python3.4/site-packages/pandas/core/generic.py\u001b[0m in \u001b[0;36mdrop\u001b[1;34m(self, labels, axis, level, inplace, errors)\u001b[0m\n\u001b[0;32m   1871\u001b[0m                 \u001b[0mnew_axis\u001b[0m \u001b[1;33m=\u001b[0m \u001b[0maxis\u001b[0m\u001b[1;33m.\u001b[0m\u001b[0mdrop\u001b[0m\u001b[1;33m(\u001b[0m\u001b[0mlabels\u001b[0m\u001b[1;33m,\u001b[0m \u001b[0mlevel\u001b[0m\u001b[1;33m=\u001b[0m\u001b[0mlevel\u001b[0m\u001b[1;33m,\u001b[0m \u001b[0merrors\u001b[0m\u001b[1;33m=\u001b[0m\u001b[0merrors\u001b[0m\u001b[1;33m)\u001b[0m\u001b[1;33m\u001b[0m\u001b[0m\n\u001b[0;32m   1872\u001b[0m             \u001b[1;32melse\u001b[0m\u001b[1;33m:\u001b[0m\u001b[1;33m\u001b[0m\u001b[0m\n\u001b[1;32m-> 1873\u001b[1;33m                 \u001b[0mnew_axis\u001b[0m \u001b[1;33m=\u001b[0m \u001b[0maxis\u001b[0m\u001b[1;33m.\u001b[0m\u001b[0mdrop\u001b[0m\u001b[1;33m(\u001b[0m\u001b[0mlabels\u001b[0m\u001b[1;33m,\u001b[0m \u001b[0merrors\u001b[0m\u001b[1;33m=\u001b[0m\u001b[0merrors\u001b[0m\u001b[1;33m)\u001b[0m\u001b[1;33m\u001b[0m\u001b[0m\n\u001b[0m\u001b[0;32m   1874\u001b[0m             \u001b[0mdropped\u001b[0m \u001b[1;33m=\u001b[0m \u001b[0mself\u001b[0m\u001b[1;33m.\u001b[0m\u001b[0mreindex\u001b[0m\u001b[1;33m(\u001b[0m\u001b[1;33m**\u001b[0m\u001b[1;33m{\u001b[0m\u001b[0maxis_name\u001b[0m\u001b[1;33m:\u001b[0m \u001b[0mnew_axis\u001b[0m\u001b[1;33m}\u001b[0m\u001b[1;33m)\u001b[0m\u001b[1;33m\u001b[0m\u001b[0m\n\u001b[0;32m   1875\u001b[0m             \u001b[1;32mtry\u001b[0m\u001b[1;33m:\u001b[0m\u001b[1;33m\u001b[0m\u001b[0m\n",
      "\u001b[1;32m/usr/lib64/python3.4/site-packages/pandas/indexes/base.py\u001b[0m in \u001b[0;36mdrop\u001b[1;34m(self, labels, errors)\u001b[0m\n\u001b[0;32m   2964\u001b[0m             \u001b[1;32mif\u001b[0m \u001b[0merrors\u001b[0m \u001b[1;33m!=\u001b[0m \u001b[1;34m'ignore'\u001b[0m\u001b[1;33m:\u001b[0m\u001b[1;33m\u001b[0m\u001b[0m\n\u001b[0;32m   2965\u001b[0m                 raise ValueError('labels %s not contained in axis' %\n\u001b[1;32m-> 2966\u001b[1;33m                                  labels[mask])\n\u001b[0m\u001b[0;32m   2967\u001b[0m             \u001b[0mindexer\u001b[0m \u001b[1;33m=\u001b[0m \u001b[0mindexer\u001b[0m\u001b[1;33m[\u001b[0m\u001b[1;33m~\u001b[0m\u001b[0mmask\u001b[0m\u001b[1;33m]\u001b[0m\u001b[1;33m\u001b[0m\u001b[0m\n\u001b[0;32m   2968\u001b[0m         \u001b[1;32mreturn\u001b[0m \u001b[0mself\u001b[0m\u001b[1;33m.\u001b[0m\u001b[0mdelete\u001b[0m\u001b[1;33m(\u001b[0m\u001b[0mindexer\u001b[0m\u001b[1;33m)\u001b[0m\u001b[1;33m\u001b[0m\u001b[0m\n",
      "\u001b[1;31mValueError\u001b[0m: labels ['Redaction'] not contained in axis"
     ]
    }
   ],
   "source": [
    "checks.drop(['Redaction'], axis=1, inplace=True)"
   ]
  },
  {
   "cell_type": "code",
   "execution_count": 98,
   "metadata": {
    "collapsed": false
   },
   "outputs": [],
   "source": [
    "checks = checks.rename(columns={'Unnamed: 0': 'Date', 'check': 'Check', 'amount': 'Amount', \n",
    "                                'requested by': 'Requested by', 'requested date': 'Requested Date'})"
   ]
  },
  {
   "cell_type": "code",
   "execution_count": 99,
   "metadata": {
    "collapsed": false
   },
   "outputs": [
    {
     "ename": "ValueError",
     "evalue": "labels ['Unnamed: 14' 'Unnamed: 15' 'Unnamed: 16' 'Unnamed: 17' 'Requested by'] not contained in axis",
     "output_type": "error",
     "traceback": [
      "\u001b[1;31m---------------------------------------------------------------------------\u001b[0m",
      "\u001b[1;31mValueError\u001b[0m                                Traceback (most recent call last)",
      "\u001b[1;32m<ipython-input-99-0ef978daba29>\u001b[0m in \u001b[0;36m<module>\u001b[1;34m()\u001b[0m\n\u001b[1;32m----> 1\u001b[1;33m \u001b[0mchecks\u001b[0m\u001b[1;33m.\u001b[0m\u001b[0mdrop\u001b[0m\u001b[1;33m(\u001b[0m\u001b[1;33m[\u001b[0m\u001b[1;34m'Unnamed: 14'\u001b[0m\u001b[1;33m,\u001b[0m \u001b[1;34m'Unnamed: 15'\u001b[0m\u001b[1;33m,\u001b[0m \u001b[1;34m'Unnamed: 16'\u001b[0m\u001b[1;33m,\u001b[0m \u001b[1;34m'Unnamed: 17'\u001b[0m\u001b[1;33m,\u001b[0m \u001b[1;34m'Requested by'\u001b[0m\u001b[1;33m]\u001b[0m\u001b[1;33m,\u001b[0m \u001b[0maxis\u001b[0m\u001b[1;33m=\u001b[0m\u001b[1;36m1\u001b[0m\u001b[1;33m,\u001b[0m \u001b[0minplace\u001b[0m\u001b[1;33m=\u001b[0m\u001b[1;32mTrue\u001b[0m\u001b[1;33m)\u001b[0m\u001b[1;33m\u001b[0m\u001b[0m\n\u001b[0m",
      "\u001b[1;32m/usr/lib64/python3.4/site-packages/pandas/core/generic.py\u001b[0m in \u001b[0;36mdrop\u001b[1;34m(self, labels, axis, level, inplace, errors)\u001b[0m\n\u001b[0;32m   1871\u001b[0m                 \u001b[0mnew_axis\u001b[0m \u001b[1;33m=\u001b[0m \u001b[0maxis\u001b[0m\u001b[1;33m.\u001b[0m\u001b[0mdrop\u001b[0m\u001b[1;33m(\u001b[0m\u001b[0mlabels\u001b[0m\u001b[1;33m,\u001b[0m \u001b[0mlevel\u001b[0m\u001b[1;33m=\u001b[0m\u001b[0mlevel\u001b[0m\u001b[1;33m,\u001b[0m \u001b[0merrors\u001b[0m\u001b[1;33m=\u001b[0m\u001b[0merrors\u001b[0m\u001b[1;33m)\u001b[0m\u001b[1;33m\u001b[0m\u001b[0m\n\u001b[0;32m   1872\u001b[0m             \u001b[1;32melse\u001b[0m\u001b[1;33m:\u001b[0m\u001b[1;33m\u001b[0m\u001b[0m\n\u001b[1;32m-> 1873\u001b[1;33m                 \u001b[0mnew_axis\u001b[0m \u001b[1;33m=\u001b[0m \u001b[0maxis\u001b[0m\u001b[1;33m.\u001b[0m\u001b[0mdrop\u001b[0m\u001b[1;33m(\u001b[0m\u001b[0mlabels\u001b[0m\u001b[1;33m,\u001b[0m \u001b[0merrors\u001b[0m\u001b[1;33m=\u001b[0m\u001b[0merrors\u001b[0m\u001b[1;33m)\u001b[0m\u001b[1;33m\u001b[0m\u001b[0m\n\u001b[0m\u001b[0;32m   1874\u001b[0m             \u001b[0mdropped\u001b[0m \u001b[1;33m=\u001b[0m \u001b[0mself\u001b[0m\u001b[1;33m.\u001b[0m\u001b[0mreindex\u001b[0m\u001b[1;33m(\u001b[0m\u001b[1;33m**\u001b[0m\u001b[1;33m{\u001b[0m\u001b[0maxis_name\u001b[0m\u001b[1;33m:\u001b[0m \u001b[0mnew_axis\u001b[0m\u001b[1;33m}\u001b[0m\u001b[1;33m)\u001b[0m\u001b[1;33m\u001b[0m\u001b[0m\n\u001b[0;32m   1875\u001b[0m             \u001b[1;32mtry\u001b[0m\u001b[1;33m:\u001b[0m\u001b[1;33m\u001b[0m\u001b[0m\n",
      "\u001b[1;32m/usr/lib64/python3.4/site-packages/pandas/indexes/base.py\u001b[0m in \u001b[0;36mdrop\u001b[1;34m(self, labels, errors)\u001b[0m\n\u001b[0;32m   2964\u001b[0m             \u001b[1;32mif\u001b[0m \u001b[0merrors\u001b[0m \u001b[1;33m!=\u001b[0m \u001b[1;34m'ignore'\u001b[0m\u001b[1;33m:\u001b[0m\u001b[1;33m\u001b[0m\u001b[0m\n\u001b[0;32m   2965\u001b[0m                 raise ValueError('labels %s not contained in axis' %\n\u001b[1;32m-> 2966\u001b[1;33m                                  labels[mask])\n\u001b[0m\u001b[0;32m   2967\u001b[0m             \u001b[0mindexer\u001b[0m \u001b[1;33m=\u001b[0m \u001b[0mindexer\u001b[0m\u001b[1;33m[\u001b[0m\u001b[1;33m~\u001b[0m\u001b[0mmask\u001b[0m\u001b[1;33m]\u001b[0m\u001b[1;33m\u001b[0m\u001b[0m\n\u001b[0;32m   2968\u001b[0m         \u001b[1;32mreturn\u001b[0m \u001b[0mself\u001b[0m\u001b[1;33m.\u001b[0m\u001b[0mdelete\u001b[0m\u001b[1;33m(\u001b[0m\u001b[0mindexer\u001b[0m\u001b[1;33m)\u001b[0m\u001b[1;33m\u001b[0m\u001b[0m\n",
      "\u001b[1;31mValueError\u001b[0m: labels ['Unnamed: 14' 'Unnamed: 15' 'Unnamed: 16' 'Unnamed: 17' 'Requested by'] not contained in axis"
     ]
    }
   ],
   "source": [
    "checks.drop(['Unnamed: 14', 'Unnamed: 15', 'Unnamed: 16', 'Unnamed: 17', 'Requested by'], axis=1, inplace=True)"
   ]
  },
  {
   "cell_type": "code",
   "execution_count": 100,
   "metadata": {
    "collapsed": false
   },
   "outputs": [
    {
     "data": {
      "text/plain": [
       "Index(['Date', 'Check', 'Amount', 'Purchase', 'Category', 'FOIA No', 'Link',\n",
       "       'Requested Date', 'First Response', 'Received Date', 'Muckrock Link'],\n",
       "      dtype='object')"
      ]
     },
     "execution_count": 100,
     "metadata": {},
     "output_type": "execute_result"
    }
   ],
   "source": [
    "checks.columns"
   ]
  },
  {
   "cell_type": "markdown",
   "metadata": {},
   "source": [
    "# De-duplication"
   ]
  },
  {
   "cell_type": "code",
   "execution_count": 101,
   "metadata": {
    "collapsed": false
   },
   "outputs": [],
   "source": [
    "checks.Purchase.replace('ballistics labs', 'ballistics lab', inplace=True)\n",
    "checks.Purchase.replace('car repair and seizure', 'car repair', inplace=True)\n",
    "checks.Purchase.replace('file maker license', 'filemaker', inplace=True)\n",
    "checks.Purchase.replace('gps kit', 'gps trackers', inplace=True)\n",
    "checks.Purchase.replace('accurint', 'lexis nexis', inplace=True)\n",
    "checks.Purchase.replace('k9 training', 'k9s', inplace=True)\n",
    "checks.Purchase.replace('gps kit', 'gps trackers', inplace=True)\n",
    "checks.Purchase.replace('repair for seized vehicles', 'car repair', inplace=True)\n",
    "checks.Purchase.replace('repair of seized vehicles', 'car repair', inplace=True)\n",
    "checks.Purchase.replace('raid apparel', 'raid jacket', inplace=True)\n",
    "checks.Purchase.replace('seized vehicles', 'car repair', inplace=True)\n",
    "checks.Purchase.replace('seized car repair', 'car repair', inplace=True)\n",
    "checks.Purchase.replace('seized cars', 'car repair', inplace=True)\n",
    "checks.Purchase.replace('undercover car purchase', 'undercover car', inplace=True)\n",
    "checks.Purchase.replace('server purchase', 'server', inplace=True)"
   ]
  },
  {
   "cell_type": "code",
   "execution_count": 102,
   "metadata": {
    "collapsed": false
   },
   "outputs": [
    {
     "data": {
      "text/plain": [
       "array(['\"clear services\" subscription', '\"realinfo accounts\"',\n",
       "       '1000 nik drug test pouches', '1505 audit',\n",
       "       '20 unmarked ocd vehicles', '48 computers and monitors',\n",
       "       '48tb hard drive for homan square security system', '49 vehicles',\n",
       "       '?? web access', '??? of st petersburg fl', '??????',\n",
       "       '??????????  \"bulk narcotics destruction\"???',\n",
       "       '??????????  \"narcotics related investigations\"???',\n",
       "       '??????????????', 'ads invoice', 'alpr', 'at & t mobility', 'at&t',\n",
       "       'at&t boc phones', 'at&t mobility', 'at&t trunking',\n",
       "       'audio / video supplies', 'auto repair', 'auto repairs',\n",
       "       'avid video processing and tower', 'ballistics lab',\n",
       "       'barracuda backup server', 'black widow surveillance',\n",
       "       'boc police department vehicles', 'camera equipment',\n",
       "       'canon cameras from b&h video', 'car repair', 'cat 5e cable',\n",
       "       'clear', 'comcast', 'computer purchase',\n",
       "       'conference registration cost', 'cpd dept of fleet mngmt',\n",
       "       'dare & great program funding',\n",
       "       'davis sign company of seatle washington', 'dea conference',\n",
       "       'dell computers', 'dell storage array', 'drug testing',\n",
       "       'electronics services agency invoice', 'enterprise',\n",
       "       'enterprise fleet', 'enterprise fleet services',\n",
       "       'enterprise rentals', 'extended warranty for filemaker servers',\n",
       "       'filemaker', 'finance division check request',\n",
       "       'freight security net', 'freight security trackers',\n",
       "       'gang intelligence reporting', 'gas credit card charges',\n",
       "       'gps air time', 'gps trackers', 'hard drives',\n",
       "       'harris corp of melbourne fl', 'harris equipment invoice',\n",
       "       'harris training invoice', 'hdmi video retrieval kits',\n",
       "       'hidta distribution correction', 'hotline services',\n",
       "       'hp monitors: \"data color spyder3\"', 'ideoa',\n",
       "       'ideoa training conference', 'ideoa training fee for 40 officers',\n",
       "       'independent audit 1505/657 funds',\n",
       "       'ir cam, pole cams, counter surveillance', 'k9s',\n",
       "       'keyw corporation of hanover', 'lexis nexis',\n",
       "       'lodging, fbi training', 'lodging, ideoa conference',\n",
       "       'membership renewal 12 officers', 'meridian it', 'money counter',\n",
       "       'motorola apex 6000 portable radios', 'motorola radios',\n",
       "       'narcotics destruction', 'no data', 'ocd vision', 'pen', 'pen link',\n",
       "       'pen reg', 'pen-link pen registers', 'penlink',\n",
       "       'penlink bluerayjukebox and one dex processor', 'phones',\n",
       "       'pinhole camera', 'pinhole cameras', 'pinhole cams?', 'pods',\n",
       "       'pole cams', 'postal equipment', 'pro-tech security sales invoice',\n",
       "       'raid jacket', 'real estate database', 'redacted',\n",
       "       'redxdefense narcotics test kits', 'redxdefense training',\n",
       "       'reimbursement for city sticker', 'repairs for forefeited vehicles',\n",
       "       'research electronics international',\n",
       "       'research electronics international invoice',\n",
       "       'sandoval custom creations for ?? cameral and ??',\n",
       "       'school prevention programs', 'server',\n",
       "       'servers from dhpc technologies', 'shredder', 'simplynas',\n",
       "       'sony cameras and equipment', 'sprint', 'sprint phones',\n",
       "       'sprint services', 'star witness', 'stingray',\n",
       "       'subscription to ?? web access', 'swat equipment', 't mobile',\n",
       "       't-mobile (for pen register investigation)',\n",
       "       't-mobile wireless for pen register investigation', 't1 data line',\n",
       "       't1 internet access', 'team cameras from b&h video',\n",
       "       'technical training course', 'tmobile', 'training equipment',\n",
       "       'trap and trace', 'trunking', 'trunking line',\n",
       "       'unclear, bought from research electronics international',\n",
       "       'unclear: \"utilized during narcotic related investigations\"',\n",
       "       'undercover car',\n",
       "       'unlimited web access to public record payable to?',\n",
       "       'unlimited web access to? payable to?',\n",
       "       'us cellular pen register coverage', 'us marshalls service/cpd',\n",
       "       'vehicle repair', 'vehicle repairs', 'verizon boc phones',\n",
       "       'verizon wireless',\n",
       "       'video retrieval, 12 dell laptops, cover hardware conflict',\n",
       "       'vision database', 'windows administrator training',\n",
       "       'worldwide technologies invoice',\n",
       "       'x100 cocaine test kits and swaps',\n",
       "       'x14 license plate renewal stickers', 'x2 server rack power strips',\n",
       "       'x2 video forensic enhancement software',\n",
       "       'x37 hours filemaker consulting', 'x40 lemart kits', 'x60 tasers',\n",
       "       'xfm server'], dtype=object)"
      ]
     },
     "execution_count": 102,
     "metadata": {},
     "output_type": "execute_result"
    }
   ],
   "source": [
    "np.unique(checks.Purchase)"
   ]
  },
  {
   "cell_type": "markdown",
   "metadata": {},
   "source": [
    "# Group by purchase type"
   ]
  },
  {
   "cell_type": "code",
   "execution_count": 103,
   "metadata": {
    "collapsed": false
   },
   "outputs": [],
   "source": [
    "purchase_obj = checks.groupby('Purchase')"
   ]
  },
  {
   "cell_type": "code",
   "execution_count": 104,
   "metadata": {
    "collapsed": false
   },
   "outputs": [
    {
     "data": {
      "text/plain": [
       "<pandas.core.groupby.SeriesGroupBy object at 0x7f44555a05f8>"
      ]
     },
     "execution_count": 104,
     "metadata": {},
     "output_type": "execute_result"
    }
   ],
   "source": [
    "purchase_obj['Amount']"
   ]
  },
  {
   "cell_type": "code",
   "execution_count": 105,
   "metadata": {
    "collapsed": false
   },
   "outputs": [],
   "source": [
    "amounts_spent = purchase_obj['Amount'].agg('sum')"
   ]
  },
  {
   "cell_type": "code",
   "execution_count": 106,
   "metadata": {
    "collapsed": false
   },
   "outputs": [],
   "source": [
    "amounts = pd.DataFrame(amounts_spent)"
   ]
  },
  {
   "cell_type": "code",
   "execution_count": 107,
   "metadata": {
    "collapsed": false
   },
   "outputs": [
    {
     "data": {
      "text/html": [
       "<div>\n",
       "<table border=\"1\" class=\"dataframe\">\n",
       "  <thead>\n",
       "    <tr style=\"text-align: right;\">\n",
       "      <th></th>\n",
       "      <th>Amount</th>\n",
       "    </tr>\n",
       "    <tr>\n",
       "      <th>Purchase</th>\n",
       "      <th></th>\n",
       "    </tr>\n",
       "  </thead>\n",
       "  <tbody>\n",
       "    <tr>\n",
       "      <th>enterprise</th>\n",
       "      <td>7204635.31</td>\n",
       "    </tr>\n",
       "    <tr>\n",
       "      <th>phones</th>\n",
       "      <td>2681492.34</td>\n",
       "    </tr>\n",
       "    <tr>\n",
       "      <th>lexis nexis</th>\n",
       "      <td>949351.27</td>\n",
       "    </tr>\n",
       "    <tr>\n",
       "      <th>no data</th>\n",
       "      <td>919346.59</td>\n",
       "    </tr>\n",
       "    <tr>\n",
       "      <th>undercover car</th>\n",
       "      <td>897918.00</td>\n",
       "    </tr>\n",
       "    <tr>\n",
       "      <th>ballistics lab</th>\n",
       "      <td>869668.11</td>\n",
       "    </tr>\n",
       "    <tr>\n",
       "      <th>motorola radios</th>\n",
       "      <td>728355.00</td>\n",
       "    </tr>\n",
       "    <tr>\n",
       "      <th>finance division check request</th>\n",
       "      <td>665950.75</td>\n",
       "    </tr>\n",
       "    <tr>\n",
       "      <th>20 unmarked ocd vehicles</th>\n",
       "      <td>619088.00</td>\n",
       "    </tr>\n",
       "    <tr>\n",
       "      <th>penlink</th>\n",
       "      <td>413209.34</td>\n",
       "    </tr>\n",
       "    <tr>\n",
       "      <th>hidta distribution correction</th>\n",
       "      <td>389823.46</td>\n",
       "    </tr>\n",
       "    <tr>\n",
       "      <th>enterprise rentals</th>\n",
       "      <td>348830.63</td>\n",
       "    </tr>\n",
       "    <tr>\n",
       "      <th>boc police department vehicles</th>\n",
       "      <td>340628.75</td>\n",
       "    </tr>\n",
       "    <tr>\n",
       "      <th>swat equipment</th>\n",
       "      <td>335000.00</td>\n",
       "    </tr>\n",
       "    <tr>\n",
       "      <th>dell computers</th>\n",
       "      <td>257333.60</td>\n",
       "    </tr>\n",
       "    <tr>\n",
       "      <th>pen-link pen registers</th>\n",
       "      <td>245920.89</td>\n",
       "    </tr>\n",
       "    <tr>\n",
       "      <th>car repair</th>\n",
       "      <td>241158.99</td>\n",
       "    </tr>\n",
       "    <tr>\n",
       "      <th>49 vehicles</th>\n",
       "      <td>213754.83</td>\n",
       "    </tr>\n",
       "    <tr>\n",
       "      <th>pods</th>\n",
       "      <td>205000.00</td>\n",
       "    </tr>\n",
       "    <tr>\n",
       "      <th>computer purchase</th>\n",
       "      <td>184571.60</td>\n",
       "    </tr>\n",
       "    <tr>\n",
       "      <th>verizon wireless</th>\n",
       "      <td>167172.34</td>\n",
       "    </tr>\n",
       "    <tr>\n",
       "      <th>stingray</th>\n",
       "      <td>157300.00</td>\n",
       "    </tr>\n",
       "    <tr>\n",
       "      <th>verizon boc phones</th>\n",
       "      <td>143260.06</td>\n",
       "    </tr>\n",
       "    <tr>\n",
       "      <th>pen link</th>\n",
       "      <td>137171.67</td>\n",
       "    </tr>\n",
       "    <tr>\n",
       "      <th>enterprise fleet</th>\n",
       "      <td>136448.53</td>\n",
       "    </tr>\n",
       "    <tr>\n",
       "      <th>harris corp of melbourne fl</th>\n",
       "      <td>136375.00</td>\n",
       "    </tr>\n",
       "    <tr>\n",
       "      <th>meridian it</th>\n",
       "      <td>131783.84</td>\n",
       "    </tr>\n",
       "    <tr>\n",
       "      <th>enterprise fleet services</th>\n",
       "      <td>105749.29</td>\n",
       "    </tr>\n",
       "    <tr>\n",
       "      <th>x60 tasers</th>\n",
       "      <td>101639.05</td>\n",
       "    </tr>\n",
       "    <tr>\n",
       "      <th>server</th>\n",
       "      <td>99489.19</td>\n",
       "    </tr>\n",
       "    <tr>\n",
       "      <th>...</th>\n",
       "      <td>...</td>\n",
       "    </tr>\n",
       "    <tr>\n",
       "      <th>\"clear services\" subscription</th>\n",
       "      <td>5884.00</td>\n",
       "    </tr>\n",
       "    <tr>\n",
       "      <th>hard drives</th>\n",
       "      <td>5586.00</td>\n",
       "    </tr>\n",
       "    <tr>\n",
       "      <th>unlimited web access to? payable to?</th>\n",
       "      <td>5569.25</td>\n",
       "    </tr>\n",
       "    <tr>\n",
       "      <th>trunking</th>\n",
       "      <td>5494.61</td>\n",
       "    </tr>\n",
       "    <tr>\n",
       "      <th>audio / video supplies</th>\n",
       "      <td>5487.40</td>\n",
       "    </tr>\n",
       "    <tr>\n",
       "      <th>hdmi video retrieval kits</th>\n",
       "      <td>5385.00</td>\n",
       "    </tr>\n",
       "    <tr>\n",
       "      <th>us marshalls service/cpd</th>\n",
       "      <td>5267.68</td>\n",
       "    </tr>\n",
       "    <tr>\n",
       "      <th>pinhole cameras</th>\n",
       "      <td>5240.00</td>\n",
       "    </tr>\n",
       "    <tr>\n",
       "      <th>gang intelligence reporting</th>\n",
       "      <td>5239.08</td>\n",
       "    </tr>\n",
       "    <tr>\n",
       "      <th>black widow surveillance</th>\n",
       "      <td>5220.00</td>\n",
       "    </tr>\n",
       "    <tr>\n",
       "      <th>sony cameras and equipment</th>\n",
       "      <td>5154.90</td>\n",
       "    </tr>\n",
       "    <tr>\n",
       "      <th>x40 lemart kits</th>\n",
       "      <td>4039.20</td>\n",
       "    </tr>\n",
       "    <tr>\n",
       "      <th>clear</th>\n",
       "      <td>3445.20</td>\n",
       "    </tr>\n",
       "    <tr>\n",
       "      <th>x100 cocaine test kits and swaps</th>\n",
       "      <td>3142.65</td>\n",
       "    </tr>\n",
       "    <tr>\n",
       "      <th>lodging, fbi training</th>\n",
       "      <td>1872.00</td>\n",
       "    </tr>\n",
       "    <tr>\n",
       "      <th>x2 video forensic enhancement software</th>\n",
       "      <td>1800.00</td>\n",
       "    </tr>\n",
       "    <tr>\n",
       "      <th>x14 license plate renewal stickers</th>\n",
       "      <td>1414.00</td>\n",
       "    </tr>\n",
       "    <tr>\n",
       "      <th>pen reg</th>\n",
       "      <td>1359.22</td>\n",
       "    </tr>\n",
       "    <tr>\n",
       "      <th>comcast</th>\n",
       "      <td>950.74</td>\n",
       "    </tr>\n",
       "    <tr>\n",
       "      <th>cat 5e cable</th>\n",
       "      <td>948.91</td>\n",
       "    </tr>\n",
       "    <tr>\n",
       "      <th>t1 data line</th>\n",
       "      <td>937.51</td>\n",
       "    </tr>\n",
       "    <tr>\n",
       "      <th>pen</th>\n",
       "      <td>932.11</td>\n",
       "    </tr>\n",
       "    <tr>\n",
       "      <th>membership renewal 12 officers</th>\n",
       "      <td>600.00</td>\n",
       "    </tr>\n",
       "    <tr>\n",
       "      <th>hotline services</th>\n",
       "      <td>478.40</td>\n",
       "    </tr>\n",
       "    <tr>\n",
       "      <th>real estate database</th>\n",
       "      <td>400.00</td>\n",
       "    </tr>\n",
       "    <tr>\n",
       "      <th>x2 server rack power strips</th>\n",
       "      <td>374.66</td>\n",
       "    </tr>\n",
       "    <tr>\n",
       "      <th>trunking line</th>\n",
       "      <td>256.93</td>\n",
       "    </tr>\n",
       "    <tr>\n",
       "      <th>at&amp;t</th>\n",
       "      <td>188.67</td>\n",
       "    </tr>\n",
       "    <tr>\n",
       "      <th>reimbursement for city sticker</th>\n",
       "      <td>35.42</td>\n",
       "    </tr>\n",
       "    <tr>\n",
       "      <th>gas credit card charges</th>\n",
       "      <td>33.17</td>\n",
       "    </tr>\n",
       "  </tbody>\n",
       "</table>\n",
       "<p>156 rows × 1 columns</p>\n",
       "</div>"
      ],
      "text/plain": [
       "                                            Amount\n",
       "Purchase                                          \n",
       "enterprise                              7204635.31\n",
       "phones                                  2681492.34\n",
       "lexis nexis                              949351.27\n",
       "no data                                  919346.59\n",
       "undercover car                           897918.00\n",
       "ballistics lab                           869668.11\n",
       "motorola radios                          728355.00\n",
       "finance division check request           665950.75\n",
       "20 unmarked ocd vehicles                 619088.00\n",
       "penlink                                  413209.34\n",
       "hidta distribution correction            389823.46\n",
       "enterprise rentals                       348830.63\n",
       "boc police department vehicles           340628.75\n",
       "swat equipment                           335000.00\n",
       "dell computers                           257333.60\n",
       "pen-link pen registers                   245920.89\n",
       "car repair                               241158.99\n",
       "49 vehicles                              213754.83\n",
       "pods                                     205000.00\n",
       "computer purchase                        184571.60\n",
       "verizon wireless                         167172.34\n",
       "stingray                                 157300.00\n",
       "verizon boc phones                       143260.06\n",
       "pen link                                 137171.67\n",
       "enterprise fleet                         136448.53\n",
       "harris corp of melbourne fl              136375.00\n",
       "meridian it                              131783.84\n",
       "enterprise fleet services                105749.29\n",
       "x60 tasers                               101639.05\n",
       "server                                    99489.19\n",
       "...                                            ...\n",
       "\"clear services\" subscription              5884.00\n",
       "hard drives                                5586.00\n",
       "unlimited web access to? payable to?       5569.25\n",
       "trunking                                   5494.61\n",
       "audio / video supplies                     5487.40\n",
       "hdmi video retrieval kits                  5385.00\n",
       "us marshalls service/cpd                   5267.68\n",
       "pinhole cameras                            5240.00\n",
       "gang intelligence reporting                5239.08\n",
       "black widow surveillance                   5220.00\n",
       "sony cameras and equipment                 5154.90\n",
       "x40 lemart kits                            4039.20\n",
       "clear                                      3445.20\n",
       "x100 cocaine test kits and swaps           3142.65\n",
       "lodging, fbi training                      1872.00\n",
       "x2 video forensic enhancement software     1800.00\n",
       "x14 license plate renewal stickers         1414.00\n",
       "pen reg                                    1359.22\n",
       "comcast                                     950.74\n",
       "cat 5e cable                                948.91\n",
       "t1 data line                                937.51\n",
       "pen                                         932.11\n",
       "membership renewal 12 officers              600.00\n",
       "hotline services                            478.40\n",
       "real estate database                        400.00\n",
       "x2 server rack power strips                 374.66\n",
       "trunking line                               256.93\n",
       "at&t                                        188.67\n",
       "reimbursement for city sticker               35.42\n",
       "gas credit card charges                      33.17\n",
       "\n",
       "[156 rows x 1 columns]"
      ]
     },
     "execution_count": 107,
     "metadata": {},
     "output_type": "execute_result"
    }
   ],
   "source": [
    "amounts.sort_values('Amount', ascending=False)"
   ]
  },
  {
   "cell_type": "code",
   "execution_count": 108,
   "metadata": {
    "collapsed": false
   },
   "outputs": [
    {
     "data": {
      "text/plain": [
       "<matplotlib.axes._subplots.AxesSubplot at 0x7f44559c10f0>"
      ]
     },
     "execution_count": 108,
     "metadata": {},
     "output_type": "execute_result"
    },
    {
     "data": {
      "image/png": "[encoded data removed]",
      "text/plain": [
       "<matplotlib.figure.Figure at 0x7f44554914e0>"
      ]
     },
     "metadata": {},
     "output_type": "display_data"
    }
   ],
   "source": [
    "amounts.sort_values('Amount', ascending=False)[0:10].plot(kind='barh', figsize=(9,5), title='1505 Expenditures by Purchase')"
   ]
  },
  {
   "cell_type": "code",
   "execution_count": 109,
   "metadata": {
    "collapsed": false,
    "scrolled": true
   },
   "outputs": [
    {
     "data": {
      "text/plain": [
       "<matplotlib.axes._subplots.AxesSubplot at 0x7f4455440908>"
      ]
     },
     "execution_count": 109,
     "metadata": {},
     "output_type": "execute_result"
    },
    {
     "data": {
      "image/png": "[encoded data removed]",
      "text/plain": [
       "<matplotlib.figure.Figure at 0x7f4455440940>"
      ]
     },
     "metadata": {},
     "output_type": "display_data"
    }
   ],
   "source": [
    "import matplotlib\n",
    "fig = plt.figure(figsize=(16,12))\n",
    "ax = fig.add_subplot(111)\n",
    "a = 0.7\n",
    "\n",
    "# Remove grid lines\n",
    "ax.grid(False)\n",
    "# Remove plot frame\n",
    "ax.set_frame_on(False)\n",
    " \n",
    "# Title\n",
    "ax.set_title(ax.get_title(), fontsize=36, alpha=a, ha='left')\n",
    "plt.subplots_adjust(top=0.8)\n",
    "# ax.title.set_position((0.5,1.08))\n",
    " \n",
    "# Axis labels\n",
    "# ax.xaxis.set_label_position('bottom')\n",
    "# ylab = 'Amount Seized (USD)'\n",
    "# ax.set_ylabel(ylab, fontsize=20, alpha=a, ha='left')\n",
    "\n",
    "# People don't understand scientific notation\n",
    "ax.get_yaxis().get_major_formatter().set_scientific(False)\n",
    "ax.get_xaxis().get_major_formatter().set_scientific(False)\n",
    "\n",
    "ax.get_yaxis().set_major_formatter(\n",
    "    matplotlib.ticker.FuncFormatter(lambda x, p: format(int(x), ',')))\n",
    "\n",
    "amounts.sort_values('Amount', ascending=False)[1:6].plot(ax=ax, kind='barh', figsize=(9,5), title='1505 Expenditures by Purchase')"
   ]
  },
  {
   "cell_type": "code",
   "execution_count": 110,
   "metadata": {
    "collapsed": false
   },
   "outputs": [
    {
     "data": {
      "text/plain": [
       "Amount    22463428.36\n",
       "dtype: float64"
      ]
     },
     "execution_count": 110,
     "metadata": {},
     "output_type": "execute_result"
    }
   ],
   "source": [
    "amounts.sum()"
   ]
  },
  {
   "cell_type": "markdown",
   "metadata": {},
   "source": [
    "# Group by routine/surveillance classification"
   ]
  },
  {
   "cell_type": "code",
   "execution_count": 111,
   "metadata": {
    "collapsed": true
   },
   "outputs": [],
   "source": [
    "class_obj = checks.groupby('Category')"
   ]
  },
  {
   "cell_type": "code",
   "execution_count": 112,
   "metadata": {
    "collapsed": false
   },
   "outputs": [],
   "source": [
    "amounts_by_class = class_obj.Amount.agg('sum')"
   ]
  },
  {
   "cell_type": "code",
   "execution_count": 113,
   "metadata": {
    "collapsed": false
   },
   "outputs": [],
   "source": [
    "amounts_category = pd.DataFrame(amounts_by_class)"
   ]
  },
  {
   "cell_type": "code",
   "execution_count": 114,
   "metadata": {
    "collapsed": false
   },
   "outputs": [],
   "source": [
    "amounts_category['Category'] = amounts_category.index"
   ]
  },
  {
   "cell_type": "code",
   "execution_count": 115,
   "metadata": {
    "collapsed": false
   },
   "outputs": [
    {
     "data": {
      "text/plain": [
       "<matplotlib.axes._subplots.AxesSubplot at 0x7f44553a5c50>"
      ]
     },
     "execution_count": 115,
     "metadata": {},
     "output_type": "execute_result"
    },
    {
     "data": {
      "image/png": "[encoded data removed]",
      "text/plain": [
       "<matplotlib.figure.Figure at 0x7f44554078d0>"
      ]
     },
     "metadata": {},
     "output_type": "display_data"
    }
   ],
   "source": [
    "amounts_category.sort_values('Amount', ascending=False)[0:10].plot(kind='barh', figsize=(9,5), title='1505 Expenditures by Category')"
   ]
  },
  {
   "cell_type": "code",
   "execution_count": 116,
   "metadata": {
    "collapsed": false
   },
   "outputs": [],
   "source": [
    "checks_to_plot_sur = checks[checks.Category == 'surveillance']\n",
    "checks_to_plot_rou = checks[checks.Category == 'routine']"
   ]
  },
  {
   "cell_type": "code",
   "execution_count": 117,
   "metadata": {
    "collapsed": false
   },
   "outputs": [],
   "source": [
    "checks_to_plot = checks_to_plot_sur.append(checks_to_plot_rou)\n",
    "class_obj = checks.groupby('Category')\n",
    "amounts_by_class = class_obj.Amount.agg('sum')\n",
    "amounts_category = pd.DataFrame(amounts_by_class)\n",
    "amounts_category['Category'] = amounts_category.index"
   ]
  },
  {
   "cell_type": "code",
   "execution_count": 118,
   "metadata": {
    "collapsed": false,
    "scrolled": true
   },
   "outputs": [
    {
     "data": {
      "text/plain": [
       "<matplotlib.axes._subplots.AxesSubplot at 0x7f44559aa390>"
      ]
     },
     "execution_count": 118,
     "metadata": {},
     "output_type": "execute_result"
    },
    {
     "data": {
      "image/png": "[encoded data removed]",
      "text/plain": [
       "<matplotlib.figure.Figure at 0x7f44559aa358>"
      ]
     },
     "metadata": {},
     "output_type": "display_data"
    }
   ],
   "source": [
    "import matplotlib\n",
    "fig = plt.figure(figsize=(16,12))\n",
    "ax = fig.add_subplot(111)\n",
    "a = 0.7\n",
    "\n",
    "# Remove grid lines\n",
    "ax.grid(False)\n",
    "# Remove plot frame\n",
    "ax.set_frame_on(False)\n",
    " \n",
    "# Title\n",
    "ax.set_title(ax.get_title(), fontsize=36, alpha=a, ha='left')\n",
    "plt.subplots_adjust(top=0.8)\n",
    "# ax.title.set_position((0.5,1.08))\n",
    " \n",
    "# Axis labels\n",
    "# ax.xaxis.set_label_position('bottom')\n",
    "# ylab = 'Amount Seized (USD)'\n",
    "# ax.set_ylabel(ylab, fontsize=20, alpha=a, ha='left')\n",
    "\n",
    "# People don't understand scientific notation\n",
    "ax.get_yaxis().get_major_formatter().set_scientific(False)\n",
    "ax.get_xaxis().get_major_formatter().set_scientific(False)\n",
    "\n",
    "ax.get_yaxis().set_major_formatter(\n",
    "    matplotlib.ticker.FuncFormatter(lambda x, p: format(int(x), ',')))\n",
    "\n",
    "amounts_category.sort_values('Amount', ascending=False)[0:10].plot(ax=ax, kind='barh', figsize=(9,5), title='1505 Expenditures by Category')\n"
   ]
  },
  {
   "cell_type": "code",
   "execution_count": 119,
   "metadata": {
    "collapsed": false
   },
   "outputs": [],
   "source": [
    "# Compute % routine and surveillance\n",
    "surveillance_amount = amounts_category[amounts_category['Category'] == 'surveillance']['Amount'].values\n",
    "routine_amount = amounts_category[amounts_category['Category'] == 'routine']['Amount'].values"
   ]
  },
  {
   "cell_type": "code",
   "execution_count": 120,
   "metadata": {
    "collapsed": false
   },
   "outputs": [],
   "source": [
    "result_by_cat = amounts_category.sort_values('Amount', ascending=False)[0:10]"
   ]
  },
  {
   "cell_type": "code",
   "execution_count": 121,
   "metadata": {
    "collapsed": false
   },
   "outputs": [
    {
     "data": {
      "text/plain": [
       "array([ 1606035.7])"
      ]
     },
     "execution_count": 121,
     "metadata": {},
     "output_type": "execute_result"
    }
   ],
   "source": [
    "surveillance_amount"
   ]
  },
  {
   "cell_type": "code",
   "execution_count": 122,
   "metadata": {
    "collapsed": false
   },
   "outputs": [
    {
     "name": "stdout",
     "output_type": "stream",
     "text": [
      "Percent surveillance: [ 8.16362909]\n",
      "Percent routine: [ 91.83637091]\n"
     ]
    }
   ],
   "source": [
    "print('Percent surveillance: {}'.format(surveillance_amount/(surveillance_amount + routine_amount) * 100)) \n",
    "print('Percent routine: {}'.format(routine_amount/(surveillance_amount + routine_amount) * 100)) "
   ]
  },
  {
   "cell_type": "code",
   "execution_count": 123,
   "metadata": {
    "collapsed": true
   },
   "outputs": [],
   "source": [
    "checks.to_csv('checks_aug24_cleaned.csv', index=False)"
   ]
  },
  {
   "cell_type": "code",
   "execution_count": null,
   "metadata": {
    "collapsed": true
   },
   "outputs": [],
   "source": []
  },
  {
   "cell_type": "code",
   "execution_count": null,
   "metadata": {
    "collapsed": true
   },
   "outputs": [],
   "source": []
  },
  {
   "cell_type": "code",
   "execution_count": null,
   "metadata": {
    "collapsed": true
   },
   "outputs": [],
   "source": []
  },
  {
   "cell_type": "code",
   "execution_count": null,
   "metadata": {
    "collapsed": true
   },
   "outputs": [],
   "source": []
  }
 ],
 "metadata": {
  "kernelspec": {
   "display_name": "Python 3",
   "language": "python",
   "name": "python3"
  },
  "language_info": {
   "codemirror_mode": {
    "name": "ipython",
    "version": 3
   },
   "file_extension": ".py",
   "mimetype": "text/x-python",
   "name": "python",
   "nbconvert_exporter": "python",
   "pygments_lexer": "ipython3",
   "version": "3.4.1"
  }
 },
 "nbformat": 4,
 "nbformat_minor": 0
}
