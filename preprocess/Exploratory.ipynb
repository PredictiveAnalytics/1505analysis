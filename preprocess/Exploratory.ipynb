{
 "cells": [
  {
   "cell_type": "code",
   "execution_count": 1,
   "metadata": {
    "collapsed": false,
    "scrolled": true
   },
   "outputs": [],
   "source": [
    "import pandas as pd\n",
    "import numpy as np\n",
    "import matplotlib.pyplot as plt\n",
    "%matplotlib inline\n",
    "import matplotlib\n",
    "plt.style.use('ggplot')"
   ]
  },
  {
   "cell_type": "code",
   "execution_count": 5,
   "metadata": {
    "collapsed": false
   },
   "outputs": [],
   "source": [
    "all_checks = pd.read_csv('July1505Data.csv')\n",
    "checks = all_checks[all_checks['Category']!='No Data']"
   ]
  },
  {
   "cell_type": "code",
   "execution_count": 9,
   "metadata": {
    "collapsed": false
   },
   "outputs": [
    {
     "data": {
      "text/plain": [
       "22463428.359999999"
      ]
     },
     "execution_count": 9,
     "metadata": {},
     "output_type": "execute_result"
    }
   ],
   "source": [
    "# Total amount in this fund\n",
    "all_checks.amount.astype(float).sum()"
   ]
  },
  {
   "cell_type": "code",
   "execution_count": 10,
   "metadata": {
    "collapsed": false
   },
   "outputs": [
    {
     "data": {
      "text/plain": [
       "22463428.359999999"
      ]
     },
     "execution_count": 10,
     "metadata": {},
     "output_type": "execute_result"
    }
   ],
   "source": [
    "checks.amount.astype(float).sum()"
   ]
  },
  {
   "cell_type": "markdown",
   "metadata": {},
   "source": [
    "# Strip whitespace and make case insensitive"
   ]
  },
  {
   "cell_type": "code",
   "execution_count": 41,
   "metadata": {
    "collapsed": false
   },
   "outputs": [],
   "source": [
    "checks['Purchase'] = checks.Purchase.map(lambda x: x if type(x)!=str else x.lower())\n",
    "checks['Category'] = checks.Category.map(lambda x: x if type(x)!=str else x.lower())"
   ]
  },
  {
   "cell_type": "code",
   "execution_count": 42,
   "metadata": {
    "collapsed": false
   },
   "outputs": [],
   "source": [
    "checks['Purchase'] = checks['Purchase'].str.strip()\n",
    "checks['Category'] = checks['Category'].str.strip()"
   ]
  },
  {
   "cell_type": "code",
   "execution_count": 43,
   "metadata": {
    "collapsed": false
   },
   "outputs": [],
   "source": [
    "checks = checks.fillna('No data')"
   ]
  },
  {
   "cell_type": "markdown",
   "metadata": {},
   "source": [
    "# De-duplication"
   ]
  },
  {
   "cell_type": "code",
   "execution_count": 44,
   "metadata": {
    "collapsed": false
   },
   "outputs": [],
   "source": [
    "checks.Purchase.replace('ballistics labs', 'ballistics lab', inplace=True)\n",
    "checks.Purchase.replace('car repair and seizure', 'car repair', inplace=True)\n",
    "checks.Purchase.replace('file maker license', 'filemaker', inplace=True)\n",
    "checks.Purchase.replace('gps kit', 'gps trackers', inplace=True)\n",
    "checks.Purchase.replace('accurint', 'lexis nexis', inplace=True)\n",
    "checks.Purchase.replace('k9 training', 'k9s', inplace=True)\n",
    "checks.Purchase.replace('gps kit', 'gps trackers', inplace=True)\n",
    "checks.Purchase.replace('repair for seized vehicles', 'car repair', inplace=True)\n",
    "checks.Purchase.replace('repair of seized vehicles', 'car repair', inplace=True)\n",
    "checks.Purchase.replace('server', 'server purchase', inplace=True)\n",
    "checks.Purchase.replace('raid apparel', 'raid jacket', inplace=True)\n",
    "checks.Purchase.replace('seized vehicles', 'car repair', inplace=True)\n",
    "checks.Purchase.replace('seized car repair', 'car repair', inplace=True)\n",
    "checks.Purchase.replace('seized cars', 'car repair', inplace=True)\n",
    "checks.Purchase.replace('undercover car purchase', 'undercover car', inplace=True)"
   ]
  },
  {
   "cell_type": "code",
   "execution_count": 45,
   "metadata": {
    "collapsed": true
   },
   "outputs": [],
   "source": [
    "# do analysis only on checks for which we have the "
   ]
  },
  {
   "cell_type": "code",
   "execution_count": 64,
   "metadata": {
    "collapsed": false
   },
   "outputs": [],
   "source": [
    "checks.amount.replace(to_replace='No data', value=0, inplace=True)"
   ]
  },
  {
   "cell_type": "markdown",
   "metadata": {},
   "source": [
    "# Group by purchase type"
   ]
  },
  {
   "cell_type": "code",
   "execution_count": 65,
   "metadata": {
    "collapsed": false
   },
   "outputs": [
    {
     "data": {
      "text/plain": [
       "array(['computer purchase', 'server purchase', 'at&t trunking',\n",
       "       'enterprise', 'phones', 'lexis nexis',\n",
       "       'independent audit 1505/657 funds', 'alpr', 'ocd vision', 'k9s',\n",
       "       'car repair', 'subscription to accurint web access',\n",
       "       'accurint public record web access for ocd drug investigators',\n",
       "       'ideoa training fee for 40 officers',\n",
       "       'repairs for forefeited vehicles',\n",
       "       'unclear, \"utilized during narcotic related investigations\"',\n",
       "       'hp monitors, \"data color spyder3\"', 'star witness', 'filemaker',\n",
       "       'swat equipment', 'training equipment', '49 vehicles',\n",
       "       'raid jacket', 'gps trackers', 'black widow surveillance',\n",
       "       'gps air time', 'camera equipment', 'stingray', 'postal equipment',\n",
       "       'pods', 'gang intelligence reporting', 'audio / video supplies',\n",
       "       'trunking', 'redacted', 'pinhole cameras', 'pinhole camera',\n",
       "       'vehicle repairs', 't1 internet access', 'hard drives',\n",
       "       'pen-link pen registers', 'vehicle repair', 'trap and trace',\n",
       "       'drug testing', 'windows administrator training',\n",
       "       'freight security trackers', 'us cellular pen register coverage',\n",
       "       'dell storage array', 'no data',\n",
       "       'unclear, bought from research electronics international',\n",
       "       't-mobile (for pen register investigation)', 'penlink',\n",
       "       '1000 nik drug test pouches',\n",
       "       't-mobile wireless for pen register investigation',\n",
       "       '20 unmarked ocd vehicles', 'dare & great program funding',\n",
       "       'ballistics lab', 'ir cam, pole cams, counter surveillance',\n",
       "       'avid video processing and tower', 'pen link',\n",
       "       'penlink bluerayjukebox and one dex processor', 'pole cams',\n",
       "       'boc police department vehicles', 'subscription to web access',\n",
       "       'ideoa training conference', 'pro-tech security sales invoice',\n",
       "       'electronics services agency invoice', 'pinhole cams?',\n",
       "       'vision database', '1505 audit', 'narcotics destruction',\n",
       "       'dea conference', 'xfm server', 'undercover car', 'money counter',\n",
       "       'hidta distribution correction',\n",
       "       'video retrieval, 12 dell laptops, cover hardware conflict',\n",
       "       'school prevention programs', '\"clear services\" subscription',\n",
       "       '\"realinfo accounts\"', '??????????????',\n",
       "       '??????????  \"bulk narcotics destruction\"???', 'enterprise rentals',\n",
       "       '??????????  \"narcotics related investigations\"???',\n",
       "       'sony cameras and equipment', 'dell computers',\n",
       "       'verizon boc phones', 'at&t boc phones',\n",
       "       'canon cameras from b&h video', 'harris equipment invoice',\n",
       "       'barracuda backup server', 'redxdefense narcotics test kits',\n",
       "       'technical training course', 'servers from dhpc technologies',\n",
       "       'extended warranty for filemaker servers', 'ads invoice',\n",
       "       'harris training invoice', 'shredder',\n",
       "       '48tb hard drive for homan square security system',\n",
       "       'redxdefense training', 'auto repairs',\n",
       "       'team cameras from b&h video', 'accurint web access',\n",
       "       'motorola radios', 'worldwide technologies invoice',\n",
       "       'research electronics international invoice',\n",
       "       'hdmi video retrieval kits', 'motorola apex 6000 portable radios',\n",
       "       'auto repair', 'verizon wireless', 'membership renewal 12 officers',\n",
       "       'cat 5e cable', 'real estate database', 'pen', 'at&t',\n",
       "       'x2 server rack power strips', '48 computers and monitors',\n",
       "       'trunking line', 't1 data line', 'pen reg', 'clear',\n",
       "       'hotline services', 'x14 license plate renewal stickers',\n",
       "       'at&t mobility', 'comcast', 'reimbursement for city sticker',\n",
       "       'x100 cocaine test kits and swaps',\n",
       "       'x2 video forensic enhancement software', 'gas credit card charges',\n",
       "       'x40 lemart kits', 'x37 hours filemaker consulting',\n",
       "       'lodging, ideoa conference', 'x60 tasers',\n",
       "       'conference registration cost', 'lodging, fbi training'], dtype=object)"
      ]
     },
     "execution_count": 65,
     "metadata": {},
     "output_type": "execute_result"
    }
   ],
   "source": [
    "checks['Purchase'].unique()"
   ]
  },
  {
   "cell_type": "code",
   "execution_count": 66,
   "metadata": {
    "collapsed": false
   },
   "outputs": [],
   "source": [
    "purchase_obj = checks.groupby('Purchase')"
   ]
  },
  {
   "cell_type": "code",
   "execution_count": 67,
   "metadata": {
    "collapsed": false
   },
   "outputs": [],
   "source": [
    "amounts_spent = purchase_obj.amount.agg('sum')"
   ]
  },
  {
   "cell_type": "code",
   "execution_count": 68,
   "metadata": {
    "collapsed": false
   },
   "outputs": [],
   "source": [
    "amounts = pd.DataFrame(amounts_spent)"
   ]
  },
  {
   "cell_type": "code",
   "execution_count": 69,
   "metadata": {
    "collapsed": false
   },
   "outputs": [
    {
     "data": {
      "text/plain": [
       "<matplotlib.axes._subplots.AxesSubplot at 0x7fe4ffbadb38>"
      ]
     },
     "execution_count": 69,
     "metadata": {},
     "output_type": "execute_result"
    },
    {
     "data": {
      "image/png": "[encoded data removed]",
      "text/plain": [
       "<matplotlib.figure.Figure at 0x7fe4ffb99240>"
      ]
     },
     "metadata": {},
     "output_type": "display_data"
    }
   ],
   "source": [
    "amounts.sort_values('amount', ascending=False)[0:10].plot(kind='barh', figsize=(9,5), title='1505 Expenditures by Purchase')"
   ]
  },
  {
   "cell_type": "code",
   "execution_count": 70,
   "metadata": {
    "collapsed": false,
    "scrolled": true
   },
   "outputs": [
    {
     "data": {
      "text/plain": [
       "<matplotlib.axes._subplots.AxesSubplot at 0x7fe4ffaf9160>"
      ]
     },
     "execution_count": 70,
     "metadata": {},
     "output_type": "execute_result"
    },
    {
     "data": {
      "image/png": "[encoded data removed]",
      "text/plain": [
       "<matplotlib.figure.Figure at 0x7fe4ffaf9c50>"
      ]
     },
     "metadata": {},
     "output_type": "display_data"
    }
   ],
   "source": [
    "import matplotlib\n",
    "fig = plt.figure(figsize=(16,12))\n",
    "ax = fig.add_subplot(111)\n",
    "a = 0.7\n",
    "\n",
    "# Remove grid lines\n",
    "ax.grid(False)\n",
    "# Remove plot frame\n",
    "ax.set_frame_on(False)\n",
    " \n",
    "# Title\n",
    "ax.set_title(ax.get_title(), fontsize=36, alpha=a, ha='left')\n",
    "plt.subplots_adjust(top=0.8)\n",
    "# ax.title.set_position((0.5,1.08))\n",
    " \n",
    "# Axis labels\n",
    "# ax.xaxis.set_label_position('bottom')\n",
    "# ylab = 'Amount Seized (USD)'\n",
    "# ax.set_ylabel(ylab, fontsize=20, alpha=a, ha='left')\n",
    "\n",
    "# People don't understand scientific notation\n",
    "ax.get_yaxis().get_major_formatter().set_scientific(False)\n",
    "ax.get_xaxis().get_major_formatter().set_scientific(False)\n",
    "\n",
    "ax.get_yaxis().set_major_formatter(\n",
    "    matplotlib.ticker.FuncFormatter(lambda x, p: format(int(x), ',')))\n",
    "\n",
    "amounts.sort_values('amount', ascending=False)[1:6].plot(ax=ax, kind='barh', figsize=(9,5), title='1505 Expenditures by Purchase')"
   ]
  },
  {
   "cell_type": "code",
   "execution_count": 71,
   "metadata": {
    "collapsed": false
   },
   "outputs": [
    {
     "name": "stderr",
     "output_type": "stream",
     "text": [
      "/usr/local/lib/python3.4/dist-packages/ipykernel/__main__.py:1: FutureWarning: sort(columns=....) is deprecated, use sort_values(by=.....)\n",
      "  if __name__ == '__main__':\n"
     ]
    },
    {
     "data": {
      "text/html": [
       "<div>\n",
       "<table border=\"1\" class=\"dataframe\">\n",
       "  <thead>\n",
       "    <tr style=\"text-align: right;\">\n",
       "      <th></th>\n",
       "      <th>amount</th>\n",
       "    </tr>\n",
       "    <tr>\n",
       "      <th>Purchase</th>\n",
       "      <th></th>\n",
       "    </tr>\n",
       "  </thead>\n",
       "  <tbody>\n",
       "    <tr>\n",
       "      <th>gas credit card charges</th>\n",
       "      <td>33.17</td>\n",
       "    </tr>\n",
       "    <tr>\n",
       "      <th>reimbursement for city sticker</th>\n",
       "      <td>35.42</td>\n",
       "    </tr>\n",
       "    <tr>\n",
       "      <th>at&amp;t</th>\n",
       "      <td>188.67</td>\n",
       "    </tr>\n",
       "    <tr>\n",
       "      <th>trunking line</th>\n",
       "      <td>256.93</td>\n",
       "    </tr>\n",
       "    <tr>\n",
       "      <th>x2 server rack power strips</th>\n",
       "      <td>374.66</td>\n",
       "    </tr>\n",
       "    <tr>\n",
       "      <th>real estate database</th>\n",
       "      <td>400.00</td>\n",
       "    </tr>\n",
       "    <tr>\n",
       "      <th>hotline services</th>\n",
       "      <td>478.40</td>\n",
       "    </tr>\n",
       "    <tr>\n",
       "      <th>membership renewal 12 officers</th>\n",
       "      <td>600.00</td>\n",
       "    </tr>\n",
       "    <tr>\n",
       "      <th>pen</th>\n",
       "      <td>932.11</td>\n",
       "    </tr>\n",
       "    <tr>\n",
       "      <th>t1 data line</th>\n",
       "      <td>937.51</td>\n",
       "    </tr>\n",
       "    <tr>\n",
       "      <th>cat 5e cable</th>\n",
       "      <td>948.91</td>\n",
       "    </tr>\n",
       "    <tr>\n",
       "      <th>comcast</th>\n",
       "      <td>950.74</td>\n",
       "    </tr>\n",
       "    <tr>\n",
       "      <th>pen reg</th>\n",
       "      <td>1359.22</td>\n",
       "    </tr>\n",
       "    <tr>\n",
       "      <th>x14 license plate renewal stickers</th>\n",
       "      <td>1414.00</td>\n",
       "    </tr>\n",
       "    <tr>\n",
       "      <th>x2 video forensic enhancement software</th>\n",
       "      <td>1800.00</td>\n",
       "    </tr>\n",
       "    <tr>\n",
       "      <th>lodging, fbi training</th>\n",
       "      <td>1872.00</td>\n",
       "    </tr>\n",
       "    <tr>\n",
       "      <th>x100 cocaine test kits and swaps</th>\n",
       "      <td>3142.65</td>\n",
       "    </tr>\n",
       "    <tr>\n",
       "      <th>clear</th>\n",
       "      <td>3445.20</td>\n",
       "    </tr>\n",
       "    <tr>\n",
       "      <th>x40 lemart kits</th>\n",
       "      <td>4039.20</td>\n",
       "    </tr>\n",
       "    <tr>\n",
       "      <th>sony cameras and equipment</th>\n",
       "      <td>5154.90</td>\n",
       "    </tr>\n",
       "    <tr>\n",
       "      <th>black widow surveillance</th>\n",
       "      <td>5220.00</td>\n",
       "    </tr>\n",
       "    <tr>\n",
       "      <th>gang intelligence reporting</th>\n",
       "      <td>5239.08</td>\n",
       "    </tr>\n",
       "    <tr>\n",
       "      <th>pinhole cameras</th>\n",
       "      <td>5240.00</td>\n",
       "    </tr>\n",
       "    <tr>\n",
       "      <th>hdmi video retrieval kits</th>\n",
       "      <td>5385.00</td>\n",
       "    </tr>\n",
       "    <tr>\n",
       "      <th>audio / video supplies</th>\n",
       "      <td>5487.40</td>\n",
       "    </tr>\n",
       "    <tr>\n",
       "      <th>trunking</th>\n",
       "      <td>5494.61</td>\n",
       "    </tr>\n",
       "    <tr>\n",
       "      <th>us cellular pen register coverage</th>\n",
       "      <td>5500.00</td>\n",
       "    </tr>\n",
       "    <tr>\n",
       "      <th>hard drives</th>\n",
       "      <td>5586.00</td>\n",
       "    </tr>\n",
       "    <tr>\n",
       "      <th>subscription to accurint web access</th>\n",
       "      <td>5780.00</td>\n",
       "    </tr>\n",
       "    <tr>\n",
       "      <th>\"clear services\" subscription</th>\n",
       "      <td>5884.00</td>\n",
       "    </tr>\n",
       "    <tr>\n",
       "      <th>...</th>\n",
       "      <td>...</td>\n",
       "    </tr>\n",
       "    <tr>\n",
       "      <th>harris training invoice</th>\n",
       "      <td>64900.00</td>\n",
       "    </tr>\n",
       "    <tr>\n",
       "      <th>training equipment</th>\n",
       "      <td>65575.00</td>\n",
       "    </tr>\n",
       "    <tr>\n",
       "      <th>pinhole cams?</th>\n",
       "      <td>79525.00</td>\n",
       "    </tr>\n",
       "    <tr>\n",
       "      <th>ir cam, pole cams, counter surveillance</th>\n",
       "      <td>91530.00</td>\n",
       "    </tr>\n",
       "    <tr>\n",
       "      <th>vision database</th>\n",
       "      <td>96030.00</td>\n",
       "    </tr>\n",
       "    <tr>\n",
       "      <th>ads invoice</th>\n",
       "      <td>97255.00</td>\n",
       "    </tr>\n",
       "    <tr>\n",
       "      <th>server purchase</th>\n",
       "      <td>99489.19</td>\n",
       "    </tr>\n",
       "    <tr>\n",
       "      <th>x60 tasers</th>\n",
       "      <td>101639.05</td>\n",
       "    </tr>\n",
       "    <tr>\n",
       "      <th>pen link</th>\n",
       "      <td>137171.67</td>\n",
       "    </tr>\n",
       "    <tr>\n",
       "      <th>verizon boc phones</th>\n",
       "      <td>143260.06</td>\n",
       "    </tr>\n",
       "    <tr>\n",
       "      <th>stingray</th>\n",
       "      <td>157300.00</td>\n",
       "    </tr>\n",
       "    <tr>\n",
       "      <th>pen-link pen registers</th>\n",
       "      <td>177761.39</td>\n",
       "    </tr>\n",
       "    <tr>\n",
       "      <th>computer purchase</th>\n",
       "      <td>184571.60</td>\n",
       "    </tr>\n",
       "    <tr>\n",
       "      <th>pods</th>\n",
       "      <td>205000.00</td>\n",
       "    </tr>\n",
       "    <tr>\n",
       "      <th>49 vehicles</th>\n",
       "      <td>213754.83</td>\n",
       "    </tr>\n",
       "    <tr>\n",
       "      <th>car repair</th>\n",
       "      <td>232640.87</td>\n",
       "    </tr>\n",
       "    <tr>\n",
       "      <th>dell computers</th>\n",
       "      <td>240873.62</td>\n",
       "    </tr>\n",
       "    <tr>\n",
       "      <th>swat equipment</th>\n",
       "      <td>335000.00</td>\n",
       "    </tr>\n",
       "    <tr>\n",
       "      <th>boc police department vehicles</th>\n",
       "      <td>340628.75</td>\n",
       "    </tr>\n",
       "    <tr>\n",
       "      <th>enterprise rentals</th>\n",
       "      <td>348830.63</td>\n",
       "    </tr>\n",
       "    <tr>\n",
       "      <th>hidta distribution correction</th>\n",
       "      <td>389823.46</td>\n",
       "    </tr>\n",
       "    <tr>\n",
       "      <th>penlink</th>\n",
       "      <td>413209.34</td>\n",
       "    </tr>\n",
       "    <tr>\n",
       "      <th>20 unmarked ocd vehicles</th>\n",
       "      <td>619088.00</td>\n",
       "    </tr>\n",
       "    <tr>\n",
       "      <th>motorola radios</th>\n",
       "      <td>728355.00</td>\n",
       "    </tr>\n",
       "    <tr>\n",
       "      <th>ballistics lab</th>\n",
       "      <td>869668.11</td>\n",
       "    </tr>\n",
       "    <tr>\n",
       "      <th>lexis nexis</th>\n",
       "      <td>879795.77</td>\n",
       "    </tr>\n",
       "    <tr>\n",
       "      <th>undercover car</th>\n",
       "      <td>897918.00</td>\n",
       "    </tr>\n",
       "    <tr>\n",
       "      <th>phones</th>\n",
       "      <td>2681492.34</td>\n",
       "    </tr>\n",
       "    <tr>\n",
       "      <th>no data</th>\n",
       "      <td>3318409.22</td>\n",
       "    </tr>\n",
       "    <tr>\n",
       "      <th>enterprise</th>\n",
       "      <td>6709729.73</td>\n",
       "    </tr>\n",
       "  </tbody>\n",
       "</table>\n",
       "<p>134 rows × 1 columns</p>\n",
       "</div>"
      ],
      "text/plain": [
       "                                             amount\n",
       "Purchase                                           \n",
       "gas credit card charges                       33.17\n",
       "reimbursement for city sticker                35.42\n",
       "at&t                                         188.67\n",
       "trunking line                                256.93\n",
       "x2 server rack power strips                  374.66\n",
       "real estate database                         400.00\n",
       "hotline services                             478.40\n",
       "membership renewal 12 officers               600.00\n",
       "pen                                          932.11\n",
       "t1 data line                                 937.51\n",
       "cat 5e cable                                 948.91\n",
       "comcast                                      950.74\n",
       "pen reg                                     1359.22\n",
       "x14 license plate renewal stickers          1414.00\n",
       "x2 video forensic enhancement software      1800.00\n",
       "lodging, fbi training                       1872.00\n",
       "x100 cocaine test kits and swaps            3142.65\n",
       "clear                                       3445.20\n",
       "x40 lemart kits                             4039.20\n",
       "sony cameras and equipment                  5154.90\n",
       "black widow surveillance                    5220.00\n",
       "gang intelligence reporting                 5239.08\n",
       "pinhole cameras                             5240.00\n",
       "hdmi video retrieval kits                   5385.00\n",
       "audio / video supplies                      5487.40\n",
       "trunking                                    5494.61\n",
       "us cellular pen register coverage           5500.00\n",
       "hard drives                                 5586.00\n",
       "subscription to accurint web access         5780.00\n",
       "\"clear services\" subscription               5884.00\n",
       "...                                             ...\n",
       "harris training invoice                    64900.00\n",
       "training equipment                         65575.00\n",
       "pinhole cams?                              79525.00\n",
       "ir cam, pole cams, counter surveillance    91530.00\n",
       "vision database                            96030.00\n",
       "ads invoice                                97255.00\n",
       "server purchase                            99489.19\n",
       "x60 tasers                                101639.05\n",
       "pen link                                  137171.67\n",
       "verizon boc phones                        143260.06\n",
       "stingray                                  157300.00\n",
       "pen-link pen registers                    177761.39\n",
       "computer purchase                         184571.60\n",
       "pods                                      205000.00\n",
       "49 vehicles                               213754.83\n",
       "car repair                                232640.87\n",
       "dell computers                            240873.62\n",
       "swat equipment                            335000.00\n",
       "boc police department vehicles            340628.75\n",
       "enterprise rentals                        348830.63\n",
       "hidta distribution correction             389823.46\n",
       "penlink                                   413209.34\n",
       "20 unmarked ocd vehicles                  619088.00\n",
       "motorola radios                           728355.00\n",
       "ballistics lab                            869668.11\n",
       "lexis nexis                               879795.77\n",
       "undercover car                            897918.00\n",
       "phones                                   2681492.34\n",
       "no data                                  3318409.22\n",
       "enterprise                               6709729.73\n",
       "\n",
       "[134 rows x 1 columns]"
      ]
     },
     "execution_count": 71,
     "metadata": {},
     "output_type": "execute_result"
    }
   ],
   "source": [
    "amounts.sort('amount')"
   ]
  },
  {
   "cell_type": "code",
   "execution_count": 72,
   "metadata": {
    "collapsed": false
   },
   "outputs": [
    {
     "data": {
      "text/plain": [
       "amount    22463428.36\n",
       "dtype: float64"
      ]
     },
     "execution_count": 72,
     "metadata": {},
     "output_type": "execute_result"
    }
   ],
   "source": [
    "amounts.sum()"
   ]
  },
  {
   "cell_type": "markdown",
   "metadata": {},
   "source": [
    "# Group by routine/surveillance classification"
   ]
  },
  {
   "cell_type": "code",
   "execution_count": 73,
   "metadata": {
    "collapsed": true
   },
   "outputs": [],
   "source": [
    "class_obj = checks.groupby('Category')"
   ]
  },
  {
   "cell_type": "code",
   "execution_count": 74,
   "metadata": {
    "collapsed": true
   },
   "outputs": [],
   "source": [
    "amounts_by_class = class_obj.amount.agg('sum')"
   ]
  },
  {
   "cell_type": "code",
   "execution_count": 75,
   "metadata": {
    "collapsed": true
   },
   "outputs": [],
   "source": [
    "amounts_category = pd.DataFrame(amounts_by_class)"
   ]
  },
  {
   "cell_type": "code",
   "execution_count": 76,
   "metadata": {
    "collapsed": false
   },
   "outputs": [],
   "source": [
    "amounts_category['Category'] = amounts_category.index"
   ]
  },
  {
   "cell_type": "code",
   "execution_count": 77,
   "metadata": {
    "collapsed": false
   },
   "outputs": [
    {
     "data": {
      "text/plain": [
       "<matplotlib.axes._subplots.AxesSubplot at 0x7fe4ffa65c18>"
      ]
     },
     "execution_count": 77,
     "metadata": {},
     "output_type": "execute_result"
    },
    {
     "data": {
      "image/png": "[encoded data removed]",
      "text/plain": [
       "<matplotlib.figure.Figure at 0x7fe4ffa4cac8>"
      ]
     },
     "metadata": {},
     "output_type": "display_data"
    }
   ],
   "source": [
    "amounts_category.sort_values('amount', ascending=False)[0:10].plot(kind='barh', figsize=(9,5), title='1505 Expenditures by Category')"
   ]
  },
  {
   "cell_type": "code",
   "execution_count": 78,
   "metadata": {
    "collapsed": false
   },
   "outputs": [
    {
     "data": {
      "text/html": [
       "<div>\n",
       "<table border=\"1\" class=\"dataframe\">\n",
       "  <thead>\n",
       "    <tr style=\"text-align: right;\">\n",
       "      <th></th>\n",
       "      <th>amount</th>\n",
       "      <th>Category</th>\n",
       "    </tr>\n",
       "    <tr>\n",
       "      <th>Category</th>\n",
       "      <th></th>\n",
       "      <th></th>\n",
       "    </tr>\n",
       "  </thead>\n",
       "  <tbody>\n",
       "    <tr>\n",
       "      <th>?</th>\n",
       "      <td>146629.74</td>\n",
       "      <td>?</td>\n",
       "    </tr>\n",
       "    <tr>\n",
       "      <th>??????</th>\n",
       "      <td>355374.45</td>\n",
       "      <td>??????</td>\n",
       "    </tr>\n",
       "    <tr>\n",
       "      <th>???????</th>\n",
       "      <td>32722.34</td>\n",
       "      <td>???????</td>\n",
       "    </tr>\n",
       "    <tr>\n",
       "      <th>no data</th>\n",
       "      <td>3318409.22</td>\n",
       "      <td>no data</td>\n",
       "    </tr>\n",
       "    <tr>\n",
       "      <th>redacted</th>\n",
       "      <td>48380.85</td>\n",
       "      <td>redacted</td>\n",
       "    </tr>\n",
       "    <tr>\n",
       "      <th>routine</th>\n",
       "      <td>16081859.94</td>\n",
       "      <td>routine</td>\n",
       "    </tr>\n",
       "    <tr>\n",
       "      <th>surveillance</th>\n",
       "      <td>2374460.22</td>\n",
       "      <td>surveillance</td>\n",
       "    </tr>\n",
       "    <tr>\n",
       "      <th>surveillance?</th>\n",
       "      <td>54591.60</td>\n",
       "      <td>surveillance?</td>\n",
       "    </tr>\n",
       "    <tr>\n",
       "      <th>surveillance???</th>\n",
       "      <td>51000.00</td>\n",
       "      <td>surveillance???</td>\n",
       "    </tr>\n",
       "  </tbody>\n",
       "</table>\n",
       "</div>"
      ],
      "text/plain": [
       "                      amount         Category\n",
       "Category                                     \n",
       "?                  146629.74                ?\n",
       "??????             355374.45           ??????\n",
       "???????             32722.34          ???????\n",
       "no data           3318409.22          no data\n",
       "redacted            48380.85         redacted\n",
       "routine          16081859.94          routine\n",
       "surveillance      2374460.22     surveillance\n",
       "surveillance?       54591.60    surveillance?\n",
       "surveillance???     51000.00  surveillance???"
      ]
     },
     "execution_count": 78,
     "metadata": {},
     "output_type": "execute_result"
    }
   ],
   "source": [
    "amounts_category"
   ]
  },
  {
   "cell_type": "code",
   "execution_count": 86,
   "metadata": {
    "collapsed": false
   },
   "outputs": [
    {
     "data": {
      "text/plain": [
       "22463428.359999992"
      ]
     },
     "execution_count": 86,
     "metadata": {},
     "output_type": "execute_result"
    }
   ],
   "source": [
    "amounts_category.amount.sum()"
   ]
  },
  {
   "cell_type": "code",
   "execution_count": 84,
   "metadata": {
    "collapsed": false
   },
   "outputs": [
    {
     "data": {
      "text/plain": [
       "18456320.16"
      ]
     },
     "execution_count": 84,
     "metadata": {},
     "output_type": "execute_result"
    }
   ],
   "source": [
    "16081859.94 + 2374460.22"
   ]
  },
  {
   "cell_type": "code",
   "execution_count": 58,
   "metadata": {
    "collapsed": false
   },
   "outputs": [],
   "source": [
    "checks_to_plot_sur = checks[checks.Category == 'surveillance']\n",
    "checks_to_plot_rou = checks[checks.Category == 'routine']"
   ]
  },
  {
   "cell_type": "code",
   "execution_count": 64,
   "metadata": {
    "collapsed": false
   },
   "outputs": [],
   "source": [
    "checks_to_plot = checks_to_plot_sur.append(checks_to_plot_rou)\n",
    "class_obj = checks.groupby('Category')\n",
    "amounts_by_class = class_obj.amount.agg('sum')\n",
    "amounts_category = pd.DataFrame(amounts_by_class)\n",
    "amounts_category['Category'] = amounts_category.index"
   ]
  },
  {
   "cell_type": "code",
   "execution_count": 68,
   "metadata": {
    "collapsed": false
   },
   "outputs": [
    {
     "data": {
      "text/plain": [
       "<matplotlib.axes._subplots.AxesSubplot at 0x7f317512afd0>"
      ]
     },
     "execution_count": 68,
     "metadata": {},
     "output_type": "execute_result"
    },
    {
     "data": {
      "image/png": "[encoded data removed]",
      "text/plain": [
       "<matplotlib.figure.Figure at 0x7f317512a668>"
      ]
     },
     "metadata": {},
     "output_type": "display_data"
    }
   ],
   "source": [
    "import matplotlib\n",
    "fig = plt.figure(figsize=(16,12))\n",
    "ax = fig.add_subplot(111)\n",
    "a = 0.7\n",
    "\n",
    "# Remove grid lines\n",
    "ax.grid(False)\n",
    "# Remove plot frame\n",
    "ax.set_frame_on(False)\n",
    " \n",
    "# Title\n",
    "ax.set_title(ax.get_title(), fontsize=36, alpha=a, ha='left')\n",
    "plt.subplots_adjust(top=0.8)\n",
    "# ax.title.set_position((0.5,1.08))\n",
    " \n",
    "# Axis labels\n",
    "# ax.xaxis.set_label_position('bottom')\n",
    "# ylab = 'Amount Seized (USD)'\n",
    "# ax.set_ylabel(ylab, fontsize=20, alpha=a, ha='left')\n",
    "\n",
    "# People don't understand scientific notation\n",
    "ax.get_yaxis().get_major_formatter().set_scientific(False)\n",
    "ax.get_xaxis().get_major_formatter().set_scientific(False)\n",
    "\n",
    "ax.get_yaxis().set_major_formatter(\n",
    "    matplotlib.ticker.FuncFormatter(lambda x, p: format(int(x), ',')))\n",
    "\n",
    "amounts_category.sort_values('amount', ascending=False)[0:10].plot(ax=ax, kind='barh', figsize=(9,5), title='1505 Expenditures by Category')\n"
   ]
  },
  {
   "cell_type": "code",
   "execution_count": 65,
   "metadata": {
    "collapsed": false
   },
   "outputs": [
    {
     "data": {
      "text/plain": [
       "<matplotlib.axes._subplots.AxesSubplot at 0x7f31754e7748>"
      ]
     },
     "execution_count": 65,
     "metadata": {},
     "output_type": "execute_result"
    },
    {
     "data": {
      "image/png": "[encoded data removed]",
      "text/plain": [
       "<matplotlib.figure.Figure at 0x7f3175200470>"
      ]
     },
     "metadata": {},
     "output_type": "display_data"
    }
   ],
   "source": []
  },
  {
   "cell_type": "code",
   "execution_count": 26,
   "metadata": {
    "collapsed": false
   },
   "outputs": [],
   "source": [
    "result_by_cat = amounts_category.sort_values('amount', ascending=False)[0:10]"
   ]
  },
  {
   "cell_type": "code",
   "execution_count": 17,
   "metadata": {
    "collapsed": true
   },
   "outputs": [],
   "source": [
    "checks.to_html('checks.html')"
   ]
  }
 ],
 "metadata": {
  "kernelspec": {
   "display_name": "Python 3",
   "language": "python",
   "name": "python3"
  },
  "language_info": {
   "codemirror_mode": {
    "name": "ipython",
    "version": 3
   },
   "file_extension": ".py",
   "mimetype": "text/x-python",
   "name": "python",
   "nbconvert_exporter": "python",
   "pygments_lexer": "ipython3",
   "version": "3.4.2"
  }
 },
 "nbformat": 4,
 "nbformat_minor": 0
}
