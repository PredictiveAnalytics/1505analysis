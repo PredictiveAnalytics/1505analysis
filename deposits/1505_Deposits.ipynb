{
 "cells": [
  {
   "cell_type": "code",
   "execution_count": 28,
   "metadata": {
    "collapsed": true
   },
   "outputs": [],
   "source": [
    "import pdb\n",
    "import re\n",
    "import ocr_utils  ## install from github.com/redshiftzero/handledocs/"
   ]
  },
  {
   "cell_type": "markdown",
   "metadata": {},
   "source": [
    "# OCR documents"
   ]
  },
  {
   "cell_type": "code",
   "execution_count": 3,
   "metadata": {
    "collapsed": false,
    "scrolled": true
   },
   "outputs": [],
   "source": [
    "foia_response = '1505Deposits.pdf'\n",
    "ocr_utils.split_pdf(foia_response)\n",
    "\n",
    "num_page_start = 3\n",
    "num_page_end = 23\n",
    "all_text = []\n",
    "\n",
    "# OCR every page in the document from num_page_start to num_page_end \n",
    "# and store the result in all_text\n",
    "for page in range(num_page_start, num_page_end + 1):\n",
    "    indiv_filename = \"{}.{}.pdf\".format(ocr_utils.get_stem(foia_response), page)\n",
    "    \n",
    "    tmp_filename = ocr_utils.rotate_pdf(indiv_filename)\n",
    "    tmp_image = ocr_utils.convert_to_png(tmp_filename)\n",
    "    all_text.append(ocr_utils.ocr_image(tmp_image))"
   ]
  },
  {
   "cell_type": "markdown",
   "metadata": {},
   "source": [
    "# Fix any errors\n",
    "\n",
    "By going through page by page and checking each row. "
   ]
  },
  {
   "cell_type": "code",
   "execution_count": 4,
   "metadata": {
    "collapsed": false
   },
   "outputs": [],
   "source": [
    "# Pull out rows with dollar signs in them\n",
    "cash_regex = re.compile('.*\\$\\d*.*')\n",
    "dates_regex = re.compile('.*/.*/.*')"
   ]
  },
  {
   "cell_type": "code",
   "execution_count": 5,
   "metadata": {
    "collapsed": true
   },
   "outputs": [],
   "source": [
    "def get_monies(text):\n",
    "    relevant_rows = []\n",
    "    each_page = text.split('\\n')\n",
    "    for row in each_page:\n",
    "        relevant_rows.append(cash_regex.findall(row))\n",
    "    matched = [x for x in relevant_rows if x]\n",
    "    return matched\n",
    "\n",
    "def get_dates(text):\n",
    "    relevant_rows = []\n",
    "    each_page = text.split('\\n')\n",
    "    for row in each_page:\n",
    "        relevant_rows.append(dates_regex.findall(row))\n",
    "    matched = [x for x in relevant_rows if x]\n",
    "    return matched"
   ]
  },
  {
   "cell_type": "code",
   "execution_count": 6,
   "metadata": {
    "collapsed": false
   },
   "outputs": [
    {
     "data": {
      "text/plain": [
       "[['$200']]"
      ]
     },
     "execution_count": 6,
     "metadata": {},
     "output_type": "execute_result"
    }
   ],
   "source": [
    "get_monies('$200\\npotato')"
   ]
  },
  {
   "cell_type": "code",
   "execution_count": 7,
   "metadata": {
    "collapsed": false
   },
   "outputs": [
    {
     "data": {
      "text/plain": [
       "[['01/01/01'], [' 05/02/0333']]"
      ]
     },
     "execution_count": 7,
     "metadata": {},
     "output_type": "execute_result"
    }
   ],
   "source": [
    "get_dates('01/01/01\\n potato\\n 05/02/0333')"
   ]
  },
  {
   "cell_type": "code",
   "execution_count": 49,
   "metadata": {
    "collapsed": false
   },
   "outputs": [],
   "source": [
    "final_rows = []\n",
    "num_pages = num_page_end - num_page_start + 1\n",
    "\n",
    "# Fix any OCR errors\n",
    "for page in range(num_pages):\n",
    "    page_rows = get_monies(all_text[page])\n",
    "    if page == 0:\n",
    "        page_rows[0] = ['01/02/2009 $1424.54']\n",
    "    elif page == 2:\n",
    "        page_rows[4] = ['06/22/2009 $541,602.27']\n",
    "        page_rows[25] = ['08/05/2009 $62.55']\n",
    "        page_rows[28] = ['08/13/2009 $92.65']\n",
    "    elif page == 6:\n",
    "        page_rows.append(['03/03/2010 $19,757.42'])\n",
    "        page_rows[10] = ['03/25/2010 $1,800.00']\n",
    "        page_rows[11] = ['04/05/2010 $701,162.24']\n",
    "        page_rows[15] = ['04/09/2010 $11,300.00']\n",
    "    elif page == 8:\n",
    "        page_rows[2] = ['04/12/2011 $60,000.00']\n",
    "    elif page == 9:\n",
    "        page_rows[13] = ['02/02/2012 $1,095.64']\n",
    "    elif page == 11:\n",
    "        # row formatting messed up, fixing:\n",
    "        page_dates = get_dates(all_text[page])\n",
    "        page_all = list(zip(page_dates, page_rows))\n",
    "        page_rows = ['{} {}'.format(x, y) for ([x],[y]) in page_all]\n",
    "        page_rows[22] = '02/06/2013 $1,200.00'\n",
    "        page_rows.append('09/24/2012 $1,102.09')\n",
    "    elif page == 17:\n",
    "        page_rows = ['02/19/2016 $1,252.96']\n",
    "    elif page == 18:\n",
    "        page_rows[2] = ['03/31/2010 $696.10']\n",
    "    elif page == 19:\n",
    "        page_rows[13] = ['08/31/2013 $1,459.31']\n",
    "    \n",
    "    final_rows += page_rows"
   ]
  },
  {
   "cell_type": "code",
   "execution_count": 50,
   "metadata": {
    "collapsed": false
   },
   "outputs": [],
   "source": [
    "dates = []\n",
    "monies = []\n",
    "for x in range(len(blah)):\n",
    "    tempdata = str(final_rows[x]).split('$')\n",
    "    dates.append(tempdata[0].replace(\"(\", \"\").replace(\")\", \"\").lstrip(\"['\").replace(\" \", \"\").replace(\".\", \"\"))\n",
    "    monies.append(tempdata[1].replace(\"(\", \"\").replace(\")\", \"\").rstrip(\"']\").replace(\" \", \"\").replace(\",\", \"\"))"
   ]
  },
  {
   "cell_type": "markdown",
   "metadata": {
    "collapsed": true
   },
   "source": [
    "# Descriptive Statistics"
   ]
  },
  {
   "cell_type": "code",
   "execution_count": 51,
   "metadata": {
    "collapsed": false
   },
   "outputs": [],
   "source": [
    "import pandas as pd"
   ]
  },
  {
   "cell_type": "code",
   "execution_count": 52,
   "metadata": {
    "collapsed": false
   },
   "outputs": [],
   "source": [
    "df = pd.DataFrame({'dates': dates, 'amount': monies})"
   ]
  },
  {
   "cell_type": "code",
   "execution_count": 56,
   "metadata": {
    "collapsed": false,
    "scrolled": true
   },
   "outputs": [],
   "source": [
    "df['dates'] = pd.to_datetime(df['dates'], format=\"%m/%d/%Y\")"
   ]
  },
  {
   "cell_type": "code",
   "execution_count": 63,
   "metadata": {
    "collapsed": false
   },
   "outputs": [],
   "source": [
    "df['amount'] = df['amount'].map(lambda x: float(x))"
   ]
  },
  {
   "cell_type": "markdown",
   "metadata": {},
   "source": [
    "Total amount of money seized from people by CPD since 2009: "
   ]
  },
  {
   "cell_type": "code",
   "execution_count": 64,
   "metadata": {
    "collapsed": false
   },
   "outputs": [
    {
     "data": {
      "text/plain": [
       "47785712.539999992"
      ]
     },
     "execution_count": 64,
     "metadata": {},
     "output_type": "execute_result"
    }
   ],
   "source": [
    "import numpy as np\n",
    "np.sum(df['amount'])"
   ]
  },
  {
   "cell_type": "markdown",
   "metadata": {},
   "source": [
    "47 MILLION!!!!!!!!!!!! "
   ]
  },
  {
   "cell_type": "code",
   "execution_count": 66,
   "metadata": {
    "collapsed": false
   },
   "outputs": [
    {
     "data": {
      "text/plain": [
       "2084051.8999999999"
      ]
     },
     "execution_count": 66,
     "metadata": {},
     "output_type": "execute_result"
    }
   ],
   "source": [
    "np.max(df['amount'])"
   ]
  },
  {
   "cell_type": "code",
   "execution_count": 67,
   "metadata": {
    "collapsed": false
   },
   "outputs": [
    {
     "data": {
      "text/plain": [
       "80177.370033557032"
      ]
     },
     "execution_count": 67,
     "metadata": {},
     "output_type": "execute_result"
    }
   ],
   "source": [
    "np.mean(df['amount'])"
   ]
  },
  {
   "cell_type": "markdown",
   "metadata": {},
   "source": [
    "# Seizures as a function of time"
   ]
  },
  {
   "cell_type": "code",
   "execution_count": 69,
   "metadata": {
    "collapsed": false
   },
   "outputs": [],
   "source": [
    "df['year'] = df['dates'].map(lambda x: x.year)"
   ]
  },
  {
   "cell_type": "code",
   "execution_count": 82,
   "metadata": {
    "collapsed": false
   },
   "outputs": [
    {
     "data": {
      "text/plain": [
       "year\n",
       "2009    9316199.57\n",
       "2010    5991453.40\n",
       "2011    6988732.19\n",
       "2012    5516524.53\n",
       "2013    5180522.15\n",
       "2014    8998228.97\n",
       "2015    4662242.80\n",
       "2016    1131808.93\n",
       "Name: amount, dtype: float64"
      ]
     },
     "execution_count": 82,
     "metadata": {},
     "output_type": "execute_result"
    }
   ],
   "source": [
    "df['amount'].groupby(df['year']).sum()"
   ]
  },
  {
   "cell_type": "code",
   "execution_count": 122,
   "metadata": {
    "collapsed": false
   },
   "outputs": [],
   "source": [
    "dfannotate = df['amount'].groupby(df['year']).sum()"
   ]
  },
  {
   "cell_type": "code",
   "execution_count": 127,
   "metadata": {
    "collapsed": false
   },
   "outputs": [
    {
     "data": {
      "text/plain": [
       "Int64Index([2009, 2010, 2011, 2012, 2013, 2014, 2015, 2016], dtype='int64', name='year')"
      ]
     },
     "execution_count": 127,
     "metadata": {},
     "output_type": "execute_result"
    }
   ],
   "source": [
    "dfannotate.index"
   ]
  },
  {
   "cell_type": "code",
   "execution_count": 145,
   "metadata": {
    "collapsed": false,
    "scrolled": true
   },
   "outputs": [
    {
     "data": {
      "image/png": "[encoded data removed]",
      "text/plain": [
       "<matplotlib.figure.Figure at 0x7fdd08033ba8>"
      ]
     },
     "metadata": {},
     "output_type": "display_data"
    }
   ],
   "source": [
    "%matplotlib inline\n",
    "import matplotlib.pyplot as plt\n",
    "import matplotlib\n",
    "plt.style.use('ggplot')\n",
    "\n",
    "fig = plt.figure(figsize=(16,12))\n",
    "ax = fig.add_subplot(111)\n",
    "mytitle = '1505/1505ML Asset Forfeiture from 2009-2015'\n",
    "a = 0.7\n",
    "\n",
    "# Remove grid lines\n",
    "ax.grid(False)\n",
    "# Remove plot frame\n",
    "ax.set_frame_on(False)\n",
    " \n",
    "# Title\n",
    "ax.set_title(ax.get_title(), fontsize=36, alpha=a, ha='left')\n",
    "plt.subplots_adjust(top=0.8)\n",
    "ax.title.set_position((0.5,1.08))\n",
    " \n",
    "# Axis labels\n",
    "ax.xaxis.set_label_position('bottom')\n",
    "ylab = 'Amount Seized (USD)'\n",
    "ax.set_ylabel(ylab, fontsize=20, alpha=a, ha='left')\n",
    "\n",
    "# People don't understand scientific notation\n",
    "ax.get_yaxis().get_major_formatter().set_scientific(False)\n",
    "ax.get_xaxis().get_major_formatter().set_scientific(False)\n",
    "\n",
    "# Use commas instead\n",
    "ax.get_yaxis().set_major_formatter(\n",
    "    matplotlib.ticker.FuncFormatter(lambda x, p: format(int(x), ',')))\n",
    " \n",
    "plt.gca().get_xaxis().get_major_formatter().set_useOffset(False)\n",
    "ax.yaxis.set_ticks_position('none')\n",
    "ax.xaxis.set_ticks_position('none')\n",
    "    \n",
    "df['amount'].groupby(df['year']).sum().plot(ax=ax, alpha=a, legend=False,\n",
    "                      xlim=(2008.5,2015.03), ylim=(0, 10000000), title=mytitle, marker='o')\n",
    "# Annotate each point\n",
    "for each_year in list(dfannotate.index):\n",
    "    ax.annotate(\"${0:,.0f}\".format(dfannotate[each_year]),\n",
    "             (each_year, dfannotate[each_year]),\n",
    "             xytext=(10, 10), \n",
    "             textcoords='offset points')"
   ]
  },
  {
   "cell_type": "code",
   "execution_count": null,
   "metadata": {
    "collapsed": true
   },
   "outputs": [],
   "source": []
  }
 ],
 "metadata": {
  "kernelspec": {
   "display_name": "Python 3",
   "language": "python",
   "name": "python3"
  },
  "language_info": {
   "codemirror_mode": {
    "name": "ipython",
    "version": 3
   },
   "file_extension": ".py",
   "mimetype": "text/x-python",
   "name": "python",
   "nbconvert_exporter": "python",
   "pygments_lexer": "ipython3",
   "version": "3.4.1"
  }
 },
 "nbformat": 4,
 "nbformat_minor": 0
}
